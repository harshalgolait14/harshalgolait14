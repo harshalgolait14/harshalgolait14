{
 "cells": [
  {
   "cell_type": "markdown",
   "id": "47ac54a6",
   "metadata": {},
   "source": [
    "# Problem Statement"
   ]
  },
  {
   "cell_type": "markdown",
   "id": "18a51c04",
   "metadata": {},
   "source": [
    "### Use regression analysis to predict the price of car"
   ]
  },
  {
   "cell_type": "markdown",
   "id": "11032dc7",
   "metadata": {},
   "source": [
    "# Attribute Information"
   ]
  },
  {
   "cell_type": "code",
   "execution_count": null,
   "id": "2d652499",
   "metadata": {},
   "outputs": [],
   "source": []
  },
  {
   "cell_type": "markdown",
   "id": "049e4742",
   "metadata": {},
   "source": [
    "# Import Required libraries"
   ]
  },
  {
   "cell_type": "code",
   "execution_count": 1,
   "id": "ed3b24fc",
   "metadata": {},
   "outputs": [],
   "source": [
    "# Import necessary libraries\n",
    "import warnings\n",
    "warnings.filterwarnings('ignore')\n",
    "import numpy as np\n",
    "import pandas as pd\n",
    "import matplotlib.pyplot as plt\n",
    "import seaborn as sns\n",
    "import statsmodels.api as sm\n",
    "import os\n",
    "\n",
    "# To enable plotting graphs in Jupiter notebook\n",
    "%matplotlib inline"
   ]
  },
  {
   "cell_type": "markdown",
   "id": "cdd65b7a",
   "metadata": {},
   "source": [
    "# Load and explore data"
   ]
  },
  {
   "cell_type": "code",
   "execution_count": 2,
   "id": "c26325af",
   "metadata": {},
   "outputs": [],
   "source": [
    "os.chdir(\"F:/Python/Datasets/Pandas\")"
   ]
  },
  {
   "cell_type": "code",
   "execution_count": 3,
   "id": "9052a825",
   "metadata": {},
   "outputs": [
    {
     "name": "stdout",
     "output_type": "stream",
     "text": [
      "      S.No.                                               Name    Location  \\\n",
      "0         0                             Maruti Wagon R LXI CNG      Mumbai   \n",
      "1         1                   Hyundai Creta 1.6 CRDi SX Option        Pune   \n",
      "2         2                                       Honda Jazz V     Chennai   \n",
      "3         3                                  Maruti Ertiga VDI     Chennai   \n",
      "4         4                    Audi A4 New 2.0 TDI Multitronic  Coimbatore   \n",
      "...     ...                                                ...         ...   \n",
      "7248   7248                  Volkswagen Vento Diesel Trendline   Hyderabad   \n",
      "7249   7249                             Volkswagen Polo GT TSI      Mumbai   \n",
      "7250   7250                             Nissan Micra Diesel XV     Kolkata   \n",
      "7251   7251                             Volkswagen Polo GT TSI        Pune   \n",
      "7252   7252  Mercedes-Benz E-Class 2009-2013 E 220 CDI Avan...       Kochi   \n",
      "\n",
      "      Year  Kilometers_Driven Fuel_Type Transmission Owner_Type     Mileage  \\\n",
      "0     2010              72000       CNG       Manual      First  26.6 km/kg   \n",
      "1     2015              41000    Diesel       Manual      First  19.67 kmpl   \n",
      "2     2011              46000    Petrol       Manual      First   18.2 kmpl   \n",
      "3     2012              87000    Diesel       Manual      First  20.77 kmpl   \n",
      "4     2013              40670    Diesel    Automatic     Second   15.2 kmpl   \n",
      "...    ...                ...       ...          ...        ...         ...   \n",
      "7248  2011              89411    Diesel       Manual      First  20.54 kmpl   \n",
      "7249  2015              59000    Petrol    Automatic      First  17.21 kmpl   \n",
      "7250  2012              28000    Diesel       Manual      First  23.08 kmpl   \n",
      "7251  2013              52262    Petrol    Automatic      Third   17.2 kmpl   \n",
      "7252  2014              72443    Diesel    Automatic      First   10.0 kmpl   \n",
      "\n",
      "       Engine      Power  Seats  New_Price  Price  \n",
      "0      998 CC  58.16 bhp    5.0        NaN   1.75  \n",
      "1     1582 CC  126.2 bhp    5.0        NaN  12.50  \n",
      "2     1199 CC   88.7 bhp    5.0  8.61 Lakh   4.50  \n",
      "3     1248 CC  88.76 bhp    7.0        NaN   6.00  \n",
      "4     1968 CC  140.8 bhp    5.0        NaN  17.74  \n",
      "...       ...        ...    ...        ...    ...  \n",
      "7248  1598 CC  103.6 bhp    5.0        NaN    NaN  \n",
      "7249  1197 CC  103.6 bhp    5.0        NaN    NaN  \n",
      "7250  1461 CC   63.1 bhp    5.0        NaN    NaN  \n",
      "7251  1197 CC  103.6 bhp    5.0        NaN    NaN  \n",
      "7252  2148 CC    170 bhp    5.0        NaN    NaN  \n",
      "\n",
      "[7253 rows x 14 columns]\n"
     ]
    }
   ],
   "source": [
    "df_usedcars=pd.read_csv('used_cars_data.csv')\n",
    "print(df_usedcars)"
   ]
  },
  {
   "cell_type": "code",
   "execution_count": 4,
   "id": "cabe3d92",
   "metadata": {},
   "outputs": [],
   "source": [
    "df1=df_usedcars.copy()"
   ]
  },
  {
   "cell_type": "code",
   "execution_count": 5,
   "id": "b058160e",
   "metadata": {},
   "outputs": [
    {
     "data": {
      "text/html": [
       "<div>\n",
       "<style scoped>\n",
       "    .dataframe tbody tr th:only-of-type {\n",
       "        vertical-align: middle;\n",
       "    }\n",
       "\n",
       "    .dataframe tbody tr th {\n",
       "        vertical-align: top;\n",
       "    }\n",
       "\n",
       "    .dataframe thead th {\n",
       "        text-align: right;\n",
       "    }\n",
       "</style>\n",
       "<table border=\"1\" class=\"dataframe\">\n",
       "  <thead>\n",
       "    <tr style=\"text-align: right;\">\n",
       "      <th></th>\n",
       "      <th>S.No.</th>\n",
       "      <th>Name</th>\n",
       "      <th>Location</th>\n",
       "      <th>Year</th>\n",
       "      <th>Kilometers_Driven</th>\n",
       "      <th>Fuel_Type</th>\n",
       "      <th>Transmission</th>\n",
       "      <th>Owner_Type</th>\n",
       "      <th>Mileage</th>\n",
       "      <th>Engine</th>\n",
       "      <th>Power</th>\n",
       "      <th>Seats</th>\n",
       "      <th>New_Price</th>\n",
       "      <th>Price</th>\n",
       "    </tr>\n",
       "  </thead>\n",
       "  <tbody>\n",
       "    <tr>\n",
       "      <th>0</th>\n",
       "      <td>0</td>\n",
       "      <td>Maruti Wagon R LXI CNG</td>\n",
       "      <td>Mumbai</td>\n",
       "      <td>2010</td>\n",
       "      <td>72000</td>\n",
       "      <td>CNG</td>\n",
       "      <td>Manual</td>\n",
       "      <td>First</td>\n",
       "      <td>26.6 km/kg</td>\n",
       "      <td>998 CC</td>\n",
       "      <td>58.16 bhp</td>\n",
       "      <td>5.0</td>\n",
       "      <td>NaN</td>\n",
       "      <td>1.75</td>\n",
       "    </tr>\n",
       "    <tr>\n",
       "      <th>1</th>\n",
       "      <td>1</td>\n",
       "      <td>Hyundai Creta 1.6 CRDi SX Option</td>\n",
       "      <td>Pune</td>\n",
       "      <td>2015</td>\n",
       "      <td>41000</td>\n",
       "      <td>Diesel</td>\n",
       "      <td>Manual</td>\n",
       "      <td>First</td>\n",
       "      <td>19.67 kmpl</td>\n",
       "      <td>1582 CC</td>\n",
       "      <td>126.2 bhp</td>\n",
       "      <td>5.0</td>\n",
       "      <td>NaN</td>\n",
       "      <td>12.50</td>\n",
       "    </tr>\n",
       "    <tr>\n",
       "      <th>2</th>\n",
       "      <td>2</td>\n",
       "      <td>Honda Jazz V</td>\n",
       "      <td>Chennai</td>\n",
       "      <td>2011</td>\n",
       "      <td>46000</td>\n",
       "      <td>Petrol</td>\n",
       "      <td>Manual</td>\n",
       "      <td>First</td>\n",
       "      <td>18.2 kmpl</td>\n",
       "      <td>1199 CC</td>\n",
       "      <td>88.7 bhp</td>\n",
       "      <td>5.0</td>\n",
       "      <td>8.61 Lakh</td>\n",
       "      <td>4.50</td>\n",
       "    </tr>\n",
       "    <tr>\n",
       "      <th>3</th>\n",
       "      <td>3</td>\n",
       "      <td>Maruti Ertiga VDI</td>\n",
       "      <td>Chennai</td>\n",
       "      <td>2012</td>\n",
       "      <td>87000</td>\n",
       "      <td>Diesel</td>\n",
       "      <td>Manual</td>\n",
       "      <td>First</td>\n",
       "      <td>20.77 kmpl</td>\n",
       "      <td>1248 CC</td>\n",
       "      <td>88.76 bhp</td>\n",
       "      <td>7.0</td>\n",
       "      <td>NaN</td>\n",
       "      <td>6.00</td>\n",
       "    </tr>\n",
       "    <tr>\n",
       "      <th>4</th>\n",
       "      <td>4</td>\n",
       "      <td>Audi A4 New 2.0 TDI Multitronic</td>\n",
       "      <td>Coimbatore</td>\n",
       "      <td>2013</td>\n",
       "      <td>40670</td>\n",
       "      <td>Diesel</td>\n",
       "      <td>Automatic</td>\n",
       "      <td>Second</td>\n",
       "      <td>15.2 kmpl</td>\n",
       "      <td>1968 CC</td>\n",
       "      <td>140.8 bhp</td>\n",
       "      <td>5.0</td>\n",
       "      <td>NaN</td>\n",
       "      <td>17.74</td>\n",
       "    </tr>\n",
       "  </tbody>\n",
       "</table>\n",
       "</div>"
      ],
      "text/plain": [
       "   S.No.                              Name    Location  Year  \\\n",
       "0      0            Maruti Wagon R LXI CNG      Mumbai  2010   \n",
       "1      1  Hyundai Creta 1.6 CRDi SX Option        Pune  2015   \n",
       "2      2                      Honda Jazz V     Chennai  2011   \n",
       "3      3                 Maruti Ertiga VDI     Chennai  2012   \n",
       "4      4   Audi A4 New 2.0 TDI Multitronic  Coimbatore  2013   \n",
       "\n",
       "   Kilometers_Driven Fuel_Type Transmission Owner_Type     Mileage   Engine  \\\n",
       "0              72000       CNG       Manual      First  26.6 km/kg   998 CC   \n",
       "1              41000    Diesel       Manual      First  19.67 kmpl  1582 CC   \n",
       "2              46000    Petrol       Manual      First   18.2 kmpl  1199 CC   \n",
       "3              87000    Diesel       Manual      First  20.77 kmpl  1248 CC   \n",
       "4              40670    Diesel    Automatic     Second   15.2 kmpl  1968 CC   \n",
       "\n",
       "       Power  Seats  New_Price  Price  \n",
       "0  58.16 bhp    5.0        NaN   1.75  \n",
       "1  126.2 bhp    5.0        NaN  12.50  \n",
       "2   88.7 bhp    5.0  8.61 Lakh   4.50  \n",
       "3  88.76 bhp    7.0        NaN   6.00  \n",
       "4  140.8 bhp    5.0        NaN  17.74  "
      ]
     },
     "execution_count": 5,
     "metadata": {},
     "output_type": "execute_result"
    }
   ],
   "source": [
    "df1.head()"
   ]
  },
  {
   "cell_type": "code",
   "execution_count": 6,
   "id": "a1e8b354",
   "metadata": {},
   "outputs": [
    {
     "data": {
      "text/html": [
       "<div>\n",
       "<style scoped>\n",
       "    .dataframe tbody tr th:only-of-type {\n",
       "        vertical-align: middle;\n",
       "    }\n",
       "\n",
       "    .dataframe tbody tr th {\n",
       "        vertical-align: top;\n",
       "    }\n",
       "\n",
       "    .dataframe thead th {\n",
       "        text-align: right;\n",
       "    }\n",
       "</style>\n",
       "<table border=\"1\" class=\"dataframe\">\n",
       "  <thead>\n",
       "    <tr style=\"text-align: right;\">\n",
       "      <th></th>\n",
       "      <th>S.No.</th>\n",
       "      <th>Name</th>\n",
       "      <th>Location</th>\n",
       "      <th>Year</th>\n",
       "      <th>Kilometers_Driven</th>\n",
       "      <th>Fuel_Type</th>\n",
       "      <th>Transmission</th>\n",
       "      <th>Owner_Type</th>\n",
       "      <th>Mileage</th>\n",
       "      <th>Engine</th>\n",
       "      <th>Power</th>\n",
       "      <th>Seats</th>\n",
       "      <th>New_Price</th>\n",
       "      <th>Price</th>\n",
       "    </tr>\n",
       "  </thead>\n",
       "  <tbody>\n",
       "    <tr>\n",
       "      <th>7248</th>\n",
       "      <td>7248</td>\n",
       "      <td>Volkswagen Vento Diesel Trendline</td>\n",
       "      <td>Hyderabad</td>\n",
       "      <td>2011</td>\n",
       "      <td>89411</td>\n",
       "      <td>Diesel</td>\n",
       "      <td>Manual</td>\n",
       "      <td>First</td>\n",
       "      <td>20.54 kmpl</td>\n",
       "      <td>1598 CC</td>\n",
       "      <td>103.6 bhp</td>\n",
       "      <td>5.0</td>\n",
       "      <td>NaN</td>\n",
       "      <td>NaN</td>\n",
       "    </tr>\n",
       "    <tr>\n",
       "      <th>7249</th>\n",
       "      <td>7249</td>\n",
       "      <td>Volkswagen Polo GT TSI</td>\n",
       "      <td>Mumbai</td>\n",
       "      <td>2015</td>\n",
       "      <td>59000</td>\n",
       "      <td>Petrol</td>\n",
       "      <td>Automatic</td>\n",
       "      <td>First</td>\n",
       "      <td>17.21 kmpl</td>\n",
       "      <td>1197 CC</td>\n",
       "      <td>103.6 bhp</td>\n",
       "      <td>5.0</td>\n",
       "      <td>NaN</td>\n",
       "      <td>NaN</td>\n",
       "    </tr>\n",
       "    <tr>\n",
       "      <th>7250</th>\n",
       "      <td>7250</td>\n",
       "      <td>Nissan Micra Diesel XV</td>\n",
       "      <td>Kolkata</td>\n",
       "      <td>2012</td>\n",
       "      <td>28000</td>\n",
       "      <td>Diesel</td>\n",
       "      <td>Manual</td>\n",
       "      <td>First</td>\n",
       "      <td>23.08 kmpl</td>\n",
       "      <td>1461 CC</td>\n",
       "      <td>63.1 bhp</td>\n",
       "      <td>5.0</td>\n",
       "      <td>NaN</td>\n",
       "      <td>NaN</td>\n",
       "    </tr>\n",
       "    <tr>\n",
       "      <th>7251</th>\n",
       "      <td>7251</td>\n",
       "      <td>Volkswagen Polo GT TSI</td>\n",
       "      <td>Pune</td>\n",
       "      <td>2013</td>\n",
       "      <td>52262</td>\n",
       "      <td>Petrol</td>\n",
       "      <td>Automatic</td>\n",
       "      <td>Third</td>\n",
       "      <td>17.2 kmpl</td>\n",
       "      <td>1197 CC</td>\n",
       "      <td>103.6 bhp</td>\n",
       "      <td>5.0</td>\n",
       "      <td>NaN</td>\n",
       "      <td>NaN</td>\n",
       "    </tr>\n",
       "    <tr>\n",
       "      <th>7252</th>\n",
       "      <td>7252</td>\n",
       "      <td>Mercedes-Benz E-Class 2009-2013 E 220 CDI Avan...</td>\n",
       "      <td>Kochi</td>\n",
       "      <td>2014</td>\n",
       "      <td>72443</td>\n",
       "      <td>Diesel</td>\n",
       "      <td>Automatic</td>\n",
       "      <td>First</td>\n",
       "      <td>10.0 kmpl</td>\n",
       "      <td>2148 CC</td>\n",
       "      <td>170 bhp</td>\n",
       "      <td>5.0</td>\n",
       "      <td>NaN</td>\n",
       "      <td>NaN</td>\n",
       "    </tr>\n",
       "  </tbody>\n",
       "</table>\n",
       "</div>"
      ],
      "text/plain": [
       "      S.No.                                               Name   Location  \\\n",
       "7248   7248                  Volkswagen Vento Diesel Trendline  Hyderabad   \n",
       "7249   7249                             Volkswagen Polo GT TSI     Mumbai   \n",
       "7250   7250                             Nissan Micra Diesel XV    Kolkata   \n",
       "7251   7251                             Volkswagen Polo GT TSI       Pune   \n",
       "7252   7252  Mercedes-Benz E-Class 2009-2013 E 220 CDI Avan...      Kochi   \n",
       "\n",
       "      Year  Kilometers_Driven Fuel_Type Transmission Owner_Type     Mileage  \\\n",
       "7248  2011              89411    Diesel       Manual      First  20.54 kmpl   \n",
       "7249  2015              59000    Petrol    Automatic      First  17.21 kmpl   \n",
       "7250  2012              28000    Diesel       Manual      First  23.08 kmpl   \n",
       "7251  2013              52262    Petrol    Automatic      Third   17.2 kmpl   \n",
       "7252  2014              72443    Diesel    Automatic      First   10.0 kmpl   \n",
       "\n",
       "       Engine      Power  Seats New_Price  Price  \n",
       "7248  1598 CC  103.6 bhp    5.0       NaN    NaN  \n",
       "7249  1197 CC  103.6 bhp    5.0       NaN    NaN  \n",
       "7250  1461 CC   63.1 bhp    5.0       NaN    NaN  \n",
       "7251  1197 CC  103.6 bhp    5.0       NaN    NaN  \n",
       "7252  2148 CC    170 bhp    5.0       NaN    NaN  "
      ]
     },
     "execution_count": 6,
     "metadata": {},
     "output_type": "execute_result"
    }
   ],
   "source": [
    "df1.tail()"
   ]
  },
  {
   "cell_type": "code",
   "execution_count": 7,
   "id": "f2e210e3",
   "metadata": {},
   "outputs": [
    {
     "data": {
      "text/plain": [
       "Index(['S.No.', 'Name', 'Location', 'Year', 'Kilometers_Driven', 'Fuel_Type',\n",
       "       'Transmission', 'Owner_Type', 'Mileage', 'Engine', 'Power', 'Seats',\n",
       "       'New_Price', 'Price'],\n",
       "      dtype='object')"
      ]
     },
     "execution_count": 7,
     "metadata": {},
     "output_type": "execute_result"
    }
   ],
   "source": [
    "df1.columns"
   ]
  },
  {
   "cell_type": "code",
   "execution_count": 8,
   "id": "27add8ee",
   "metadata": {},
   "outputs": [
    {
     "data": {
      "text/plain": [
       "(7253, 14)"
      ]
     },
     "execution_count": 8,
     "metadata": {},
     "output_type": "execute_result"
    }
   ],
   "source": [
    "df1.shape"
   ]
  },
  {
   "cell_type": "code",
   "execution_count": 9,
   "id": "e876647f",
   "metadata": {},
   "outputs": [
    {
     "name": "stdout",
     "output_type": "stream",
     "text": [
      "<class 'pandas.core.frame.DataFrame'>\n",
      "RangeIndex: 7253 entries, 0 to 7252\n",
      "Data columns (total 14 columns):\n",
      " #   Column             Non-Null Count  Dtype  \n",
      "---  ------             --------------  -----  \n",
      " 0   S.No.              7253 non-null   int64  \n",
      " 1   Name               7253 non-null   object \n",
      " 2   Location           7253 non-null   object \n",
      " 3   Year               7253 non-null   int64  \n",
      " 4   Kilometers_Driven  7253 non-null   int64  \n",
      " 5   Fuel_Type          7253 non-null   object \n",
      " 6   Transmission       7253 non-null   object \n",
      " 7   Owner_Type         7253 non-null   object \n",
      " 8   Mileage            7251 non-null   object \n",
      " 9   Engine             7207 non-null   object \n",
      " 10  Power              7207 non-null   object \n",
      " 11  Seats              7200 non-null   float64\n",
      " 12  New_Price          1006 non-null   object \n",
      " 13  Price              6019 non-null   float64\n",
      "dtypes: float64(2), int64(3), object(9)\n",
      "memory usage: 793.4+ KB\n"
     ]
    }
   ],
   "source": [
    "df1.info()"
   ]
  },
  {
   "cell_type": "markdown",
   "id": "209412b7",
   "metadata": {},
   "source": [
    "# Observations"
   ]
  },
  {
   "cell_type": "markdown",
   "id": "fdefda3a",
   "metadata": {},
   "source": [
    "* There are 7353 rows and 14 columns\n",
    "* Dependant variable is  price\n",
    "* There are 5 numeric variable and 9 catagorical variables, some of numeric variables are in object type so we have to convert it.\n",
    "* There are null values present in data which we have to fix"
   ]
  },
  {
   "cell_type": "markdown",
   "id": "0cfce270",
   "metadata": {},
   "source": [
    "# Let us look at the missing values"
   ]
  },
  {
   "cell_type": "code",
   "execution_count": 10,
   "id": "ea5d5920",
   "metadata": {},
   "outputs": [
    {
     "data": {
      "text/plain": [
       "S.No.                   0\n",
       "Name                    0\n",
       "Location                0\n",
       "Year                    0\n",
       "Kilometers_Driven       0\n",
       "Fuel_Type               0\n",
       "Transmission            0\n",
       "Owner_Type              0\n",
       "Mileage                 2\n",
       "Engine                 46\n",
       "Power                  46\n",
       "Seats                  53\n",
       "New_Price            6247\n",
       "Price                1234\n",
       "dtype: int64"
      ]
     },
     "execution_count": 10,
     "metadata": {},
     "output_type": "execute_result"
    }
   ],
   "source": [
    "df1.isna().sum()"
   ]
  },
  {
   "cell_type": "code",
   "execution_count": 11,
   "id": "cf8fb7cf",
   "metadata": {},
   "outputs": [
    {
     "data": {
      "text/plain": [
       "Mileage         2\n",
       "Engine         46\n",
       "Power          46\n",
       "Seats          53\n",
       "New_Price    6247\n",
       "Price        1234\n",
       "dtype: int64"
      ]
     },
     "execution_count": 11,
     "metadata": {},
     "output_type": "execute_result"
    }
   ],
   "source": [
    "missing=df1.columns[df1.isnull().any()]\n",
    "df1[missing].isnull().sum()"
   ]
  },
  {
   "cell_type": "code",
   "execution_count": 12,
   "id": "7d40b544",
   "metadata": {},
   "outputs": [
    {
     "data": {
      "text/plain": [
       "Mileage       0.027575\n",
       "Engine        0.634220\n",
       "Power         0.634220\n",
       "Seats         0.730732\n",
       "New_Price    86.129877\n",
       "Price        17.013650\n",
       "dtype: float64"
      ]
     },
     "execution_count": 12,
     "metadata": {},
     "output_type": "execute_result"
    }
   ],
   "source": [
    "# Find missing data percentage\n",
    "#percent_missing = df. isnull(). sum() * 100 / len(df)\n",
    "percentage_missing=df1[missing].isnull().sum()*100/len(df1)\n",
    "percentage_missing"
   ]
  },
  {
   "cell_type": "code",
   "execution_count": 13,
   "id": "8c1fcf26",
   "metadata": {},
   "outputs": [],
   "source": [
    "# Drop columns having more than 40 % missing data\n",
    "# New price column contain 86% missing values hence drop it.\n",
    "df1.drop(['New_Price'], axis = 1,inplace=True)"
   ]
  },
  {
   "cell_type": "markdown",
   "id": "3ebb2dd9",
   "metadata": {},
   "source": [
    "# Let us fix missing values"
   ]
  },
  {
   "cell_type": "code",
   "execution_count": 14,
   "id": "0f295759",
   "metadata": {},
   "outputs": [],
   "source": [
    "#Extract the Brand and Model column from Name column\n",
    "df1[\"Brand\"]=df1['Name'].str.split(expand=True)[0]\n",
    "df1[\"Model\"]=df1['Name'].str.split(expand=True)[1]"
   ]
  },
  {
   "cell_type": "code",
   "execution_count": 15,
   "id": "8365f30a",
   "metadata": {},
   "outputs": [],
   "source": [
    "#Split the Values and Unit from Mileage,Engine,Power column\n",
    "df1[\"Mileage_value\"]=df1['Mileage'].str.split(expand=True)[0]\n",
    "df1[\"Engine_value\"]=df1['Engine'].str.split(expand=True)[0]\n",
    "df1[\"Power_value\"]=df1['Power'].str.split(expand=True)[0]"
   ]
  },
  {
   "cell_type": "code",
   "execution_count": 16,
   "id": "23a7a805",
   "metadata": {},
   "outputs": [
    {
     "data": {
      "text/plain": [
       "dtype('O')"
      ]
     },
     "execution_count": 16,
     "metadata": {},
     "output_type": "execute_result"
    }
   ],
   "source": [
    "df1['Mileage_value'].dtype"
   ]
  },
  {
   "cell_type": "code",
   "execution_count": 17,
   "id": "d3eda255",
   "metadata": {},
   "outputs": [],
   "source": [
    "# Covert data type from string to float\n",
    "df1['Mileage_value']=df1['Mileage_value'].astype(float)\n",
    "df1['Engine_value']=df1['Engine_value'].astype(float)\n"
   ]
  },
  {
   "cell_type": "code",
   "execution_count": 18,
   "id": "f58714fa",
   "metadata": {},
   "outputs": [
    {
     "data": {
      "text/plain": [
       "74        280\n",
       "98.6      166\n",
       "73.9      152\n",
       "140       142\n",
       "null      129\n",
       "         ... \n",
       "270.88      1\n",
       "201         1\n",
       "503         1\n",
       "181.43      1\n",
       "74.93       1\n",
       "Name: Power_value, Length: 386, dtype: int64"
      ]
     },
     "execution_count": 18,
     "metadata": {},
     "output_type": "execute_result"
    }
   ],
   "source": [
    "df1['Power_value'].value_counts()"
   ]
  },
  {
   "cell_type": "code",
   "execution_count": 19,
   "id": "fb5f62bf",
   "metadata": {},
   "outputs": [],
   "source": [
    "# Power value column contain null value so replace it by np.nan\n",
    "df1['Power_value'].replace('null',np.nan,inplace=True)"
   ]
  },
  {
   "cell_type": "code",
   "execution_count": 20,
   "id": "ca0fc626",
   "metadata": {},
   "outputs": [],
   "source": [
    "df1['Power_value']=df1['Power_value'].astype(float)  # Covert data type from string to float"
   ]
  },
  {
   "cell_type": "markdown",
   "id": "3526b6eb",
   "metadata": {},
   "source": [
    "###### Lets fill missing values of mileage, engine and power value by median and groupby \n"
   ]
  },
  {
   "cell_type": "code",
   "execution_count": 21,
   "id": "e4d06583",
   "metadata": {},
   "outputs": [
    {
     "data": {
      "text/plain": [
       "0.0"
      ]
     },
     "execution_count": 21,
     "metadata": {},
     "output_type": "execute_result"
    }
   ],
   "source": [
    "# Mileage_value\n",
    "df1['Mileage_value'].min()"
   ]
  },
  {
   "cell_type": "code",
   "execution_count": 22,
   "id": "c943f5cb",
   "metadata": {},
   "outputs": [
    {
     "data": {
      "text/plain": [
       "33.54"
      ]
     },
     "execution_count": 22,
     "metadata": {},
     "output_type": "execute_result"
    }
   ],
   "source": [
    "df1['Mileage_value'].max()"
   ]
  },
  {
   "cell_type": "code",
   "execution_count": 23,
   "id": "24ac26d4",
   "metadata": {},
   "outputs": [],
   "source": [
    "df1['Mileage_value'].replace(0,np.nan,inplace=True)"
   ]
  },
  {
   "cell_type": "code",
   "execution_count": 24,
   "id": "c8f1bf4d",
   "metadata": {},
   "outputs": [
    {
     "data": {
      "text/plain": [
       "83"
      ]
     },
     "execution_count": 24,
     "metadata": {},
     "output_type": "execute_result"
    }
   ],
   "source": [
    "df1['Mileage_value'].isnull().sum()"
   ]
  },
  {
   "cell_type": "code",
   "execution_count": 25,
   "id": "a120b227",
   "metadata": {},
   "outputs": [
    {
     "data": {
      "text/plain": [
       "18.2"
      ]
     },
     "execution_count": 25,
     "metadata": {},
     "output_type": "execute_result"
    }
   ],
   "source": [
    "df1['Mileage_value'].median()"
   ]
  },
  {
   "cell_type": "code",
   "execution_count": 26,
   "id": "23864b19",
   "metadata": {},
   "outputs": [],
   "source": [
    "df1['Mileage_value'].fillna(18.2, inplace=True)"
   ]
  },
  {
   "cell_type": "code",
   "execution_count": 27,
   "id": "d9467085",
   "metadata": {},
   "outputs": [
    {
     "data": {
      "text/plain": [
       "0"
      ]
     },
     "execution_count": 27,
     "metadata": {},
     "output_type": "execute_result"
    }
   ],
   "source": [
    "df1['Mileage_value'].isnull().sum()"
   ]
  },
  {
   "cell_type": "code",
   "execution_count": 28,
   "id": "9bf22e84",
   "metadata": {},
   "outputs": [
    {
     "data": {
      "text/plain": [
       "72.0"
      ]
     },
     "execution_count": 28,
     "metadata": {},
     "output_type": "execute_result"
    }
   ],
   "source": [
    "# Engine_value\n",
    "df1['Engine_value'].min()"
   ]
  },
  {
   "cell_type": "code",
   "execution_count": 29,
   "id": "48c7d0e4",
   "metadata": {},
   "outputs": [],
   "source": [
    "df1[\"Engine_value\"]=df1.groupby(['Brand', 'Model'])['Engine_value'].transform(lambda x : x.fillna(x.median()))"
   ]
  },
  {
   "cell_type": "code",
   "execution_count": 30,
   "id": "3890331c",
   "metadata": {},
   "outputs": [
    {
     "data": {
      "text/plain": [
       "0"
      ]
     },
     "execution_count": 30,
     "metadata": {},
     "output_type": "execute_result"
    }
   ],
   "source": [
    "df1['Engine_value'].isnull().sum()"
   ]
  },
  {
   "cell_type": "code",
   "execution_count": 31,
   "id": "49a30614",
   "metadata": {},
   "outputs": [
    {
     "data": {
      "text/plain": [
       "34.2"
      ]
     },
     "execution_count": 31,
     "metadata": {},
     "output_type": "execute_result"
    }
   ],
   "source": [
    "# Power_value\n",
    "df1['Power_value'].min()"
   ]
  },
  {
   "cell_type": "code",
   "execution_count": 32,
   "id": "1488ad97",
   "metadata": {},
   "outputs": [],
   "source": [
    "# Fill null values by groupby 'Brand' and 'model' and median of Power_value\n",
    "df1[\"Power_value\"]=df1.groupby(['Brand', 'Model'])['Power_value'].transform(lambda x : x.fillna(x.median()))"
   ]
  },
  {
   "cell_type": "code",
   "execution_count": 33,
   "id": "42383da0",
   "metadata": {},
   "outputs": [
    {
     "data": {
      "text/plain": [
       "12"
      ]
     },
     "execution_count": 33,
     "metadata": {},
     "output_type": "execute_result"
    }
   ],
   "source": [
    "df1['Power_value'].isnull().sum()"
   ]
  },
  {
   "cell_type": "code",
   "execution_count": 34,
   "id": "1aa7e884",
   "metadata": {},
   "outputs": [],
   "source": [
    "# Again apply same to remove null values by groupby 'Brand'  and median of Power_value\n",
    "df1[\"Power_value\"]=df1.groupby(['Brand'])['Power_value'].transform(lambda x : x.fillna(x.median()))"
   ]
  },
  {
   "cell_type": "code",
   "execution_count": 35,
   "id": "124c7800",
   "metadata": {},
   "outputs": [
    {
     "data": {
      "text/plain": [
       "2"
      ]
     },
     "execution_count": 35,
     "metadata": {},
     "output_type": "execute_result"
    }
   ],
   "source": [
    "df1['Power_value'].isnull().sum()"
   ]
  },
  {
   "cell_type": "code",
   "execution_count": 36,
   "id": "cc01d558",
   "metadata": {},
   "outputs": [
    {
     "data": {
      "text/plain": [
       "92.7"
      ]
     },
     "execution_count": 36,
     "metadata": {},
     "output_type": "execute_result"
    }
   ],
   "source": [
    "df1['Power_value'].median()"
   ]
  },
  {
   "cell_type": "code",
   "execution_count": 37,
   "id": "7736b524",
   "metadata": {},
   "outputs": [],
   "source": [
    "df1[\"Power_value\"].fillna(92.7,inplace=True)"
   ]
  },
  {
   "cell_type": "code",
   "execution_count": 38,
   "id": "d96f9b94",
   "metadata": {},
   "outputs": [
    {
     "data": {
      "text/plain": [
       "0"
      ]
     },
     "execution_count": 38,
     "metadata": {},
     "output_type": "execute_result"
    }
   ],
   "source": [
    "df1['Power_value'].isnull().sum()"
   ]
  },
  {
   "cell_type": "code",
   "execution_count": 39,
   "id": "cd502a2d",
   "metadata": {},
   "outputs": [
    {
     "data": {
      "text/plain": [
       "5.0     6047\n",
       "7.0      796\n",
       "8.0      170\n",
       "4.0      119\n",
       "6.0       38\n",
       "2.0       18\n",
       "10.0       8\n",
       "9.0        3\n",
       "0.0        1\n",
       "Name: Seats, dtype: int64"
      ]
     },
     "execution_count": 39,
     "metadata": {},
     "output_type": "execute_result"
    }
   ],
   "source": [
    "## Lets fix null values of seats\n",
    "df1[\"Seats\"].value_counts()"
   ]
  },
  {
   "cell_type": "code",
   "execution_count": 40,
   "id": "360ad192",
   "metadata": {},
   "outputs": [
    {
     "data": {
      "text/plain": [
       "5.0"
      ]
     },
     "execution_count": 40,
     "metadata": {},
     "output_type": "execute_result"
    }
   ],
   "source": [
    "df1['Seats'].median()"
   ]
  },
  {
   "cell_type": "code",
   "execution_count": 41,
   "id": "0235ce70",
   "metadata": {},
   "outputs": [],
   "source": [
    "# Lets replace 0 and null values by median-5\n",
    "df1[\"Seats\"].fillna(5, inplace = True)"
   ]
  },
  {
   "cell_type": "code",
   "execution_count": 42,
   "id": "2ab22bdc",
   "metadata": {},
   "outputs": [],
   "source": [
    "df1['Seats'].replace(0,5,inplace=True)"
   ]
  },
  {
   "cell_type": "code",
   "execution_count": 43,
   "id": "062139b1",
   "metadata": {},
   "outputs": [
    {
     "data": {
      "text/plain": [
       "0"
      ]
     },
     "execution_count": 43,
     "metadata": {},
     "output_type": "execute_result"
    }
   ],
   "source": [
    "df1['Seats'].isnull().sum()"
   ]
  },
  {
   "cell_type": "code",
   "execution_count": 44,
   "id": "1f688b15",
   "metadata": {},
   "outputs": [
    {
     "data": {
      "text/plain": [
       "1234"
      ]
     },
     "execution_count": 44,
     "metadata": {},
     "output_type": "execute_result"
    }
   ],
   "source": [
    "## Lets fix null values for Price\n",
    "df1['Price'].isnull().sum()"
   ]
  },
  {
   "cell_type": "code",
   "execution_count": 45,
   "id": "6a6e150c",
   "metadata": {},
   "outputs": [
    {
     "data": {
      "text/plain": [
       "0.44"
      ]
     },
     "execution_count": 45,
     "metadata": {},
     "output_type": "execute_result"
    }
   ],
   "source": [
    "df1['Price'].min()"
   ]
  },
  {
   "cell_type": "code",
   "execution_count": 46,
   "id": "79c9d1e8",
   "metadata": {},
   "outputs": [],
   "source": [
    "# Fill null values by groupby 'Brand' and 'model' and median of Price\n",
    "df1[\"Price\"]=df1.groupby(['Brand', 'Model'])['Price'].transform(lambda x : x.fillna(x.median()))"
   ]
  },
  {
   "cell_type": "code",
   "execution_count": 47,
   "id": "8772c842",
   "metadata": {},
   "outputs": [
    {
     "data": {
      "text/plain": [
       "7"
      ]
     },
     "execution_count": 47,
     "metadata": {},
     "output_type": "execute_result"
    }
   ],
   "source": [
    "df1['Price'].isnull().sum()"
   ]
  },
  {
   "cell_type": "code",
   "execution_count": 48,
   "id": "5c06ae04",
   "metadata": {},
   "outputs": [
    {
     "data": {
      "text/plain": [
       "5.59"
      ]
     },
     "execution_count": 48,
     "metadata": {},
     "output_type": "execute_result"
    }
   ],
   "source": [
    "df1[\"Price\"].median()"
   ]
  },
  {
   "cell_type": "code",
   "execution_count": 49,
   "id": "eb28f1b5",
   "metadata": {},
   "outputs": [],
   "source": [
    "# Fill remaing null values by median of price column\n",
    "df1[\"Price\"].fillna(5.59,inplace=True)"
   ]
  },
  {
   "cell_type": "code",
   "execution_count": 50,
   "id": "89ad1243",
   "metadata": {},
   "outputs": [
    {
     "data": {
      "text/plain": [
       "0"
      ]
     },
     "execution_count": 50,
     "metadata": {},
     "output_type": "execute_result"
    }
   ],
   "source": [
    "df1['Price'].isnull().sum()"
   ]
  },
  {
   "cell_type": "markdown",
   "id": "44c597b4",
   "metadata": {},
   "source": [
    "###### Check for max value of Kilometer driven\n",
    "###### The Maxmimun reading on odometer must be up to 1,10,000. Therefore, replace those readings which have more than 1,10,000 with median "
   ]
  },
  {
   "cell_type": "code",
   "execution_count": 51,
   "id": "1bf64e2a",
   "metadata": {},
   "outputs": [
    {
     "data": {
      "text/plain": [
       "6500000"
      ]
     },
     "execution_count": 51,
     "metadata": {},
     "output_type": "execute_result"
    }
   ],
   "source": [
    "df1['Kilometers_Driven'].max()"
   ]
  },
  {
   "cell_type": "code",
   "execution_count": 52,
   "id": "9388e01a",
   "metadata": {},
   "outputs": [
    {
     "data": {
      "text/plain": [
       "53416.0"
      ]
     },
     "execution_count": 52,
     "metadata": {},
     "output_type": "execute_result"
    }
   ],
   "source": [
    "# So we have to replace kilometer driven values exceeding 1,10,000 km by median of column\n",
    "df1['Kilometers_Driven'].median()"
   ]
  },
  {
   "cell_type": "code",
   "execution_count": 53,
   "id": "376522bc",
   "metadata": {},
   "outputs": [],
   "source": [
    "# Replace Value\n",
    "df1['Kilometers_Driven']=np.where((df1['Kilometers_Driven']>=109999.99),53416,df1['Kilometers_Driven'])"
   ]
  },
  {
   "cell_type": "code",
   "execution_count": 54,
   "id": "7d41f7bd",
   "metadata": {},
   "outputs": [
    {
     "data": {
      "text/plain": [
       "109703"
      ]
     },
     "execution_count": 54,
     "metadata": {},
     "output_type": "execute_result"
    }
   ],
   "source": [
    "# check max value\n",
    "df1['Kilometers_Driven'].max()"
   ]
  },
  {
   "cell_type": "code",
   "execution_count": 55,
   "id": "1eb9b2f1",
   "metadata": {},
   "outputs": [
    {
     "data": {
      "text/plain": [
       "S.No.                 0\n",
       "Name                  0\n",
       "Location              0\n",
       "Year                  0\n",
       "Kilometers_Driven     0\n",
       "Fuel_Type             0\n",
       "Transmission          0\n",
       "Owner_Type            0\n",
       "Mileage               2\n",
       "Engine               46\n",
       "Power                46\n",
       "Seats                 0\n",
       "Price                 0\n",
       "Brand                 0\n",
       "Model                 0\n",
       "Mileage_value         0\n",
       "Engine_value          0\n",
       "Power_value           0\n",
       "dtype: int64"
      ]
     },
     "execution_count": 55,
     "metadata": {},
     "output_type": "execute_result"
    }
   ],
   "source": [
    "df1.isna().sum()"
   ]
  },
  {
   "cell_type": "code",
   "execution_count": 56,
   "id": "934c046b",
   "metadata": {},
   "outputs": [],
   "source": [
    "# Lets drop Name, Mileage, Engine and POwer column\n",
    "df1.drop(['Mileage','Engine','Power','Name'],axis=1,inplace=True)"
   ]
  },
  {
   "cell_type": "code",
   "execution_count": 57,
   "id": "03c092d9",
   "metadata": {},
   "outputs": [
    {
     "data": {
      "text/plain": [
       "S.No.                0\n",
       "Location             0\n",
       "Year                 0\n",
       "Kilometers_Driven    0\n",
       "Fuel_Type            0\n",
       "Transmission         0\n",
       "Owner_Type           0\n",
       "Seats                0\n",
       "Price                0\n",
       "Brand                0\n",
       "Model                0\n",
       "Mileage_value        0\n",
       "Engine_value         0\n",
       "Power_value          0\n",
       "dtype: int64"
      ]
     },
     "execution_count": 57,
     "metadata": {},
     "output_type": "execute_result"
    }
   ],
   "source": [
    "df1.isna().sum()"
   ]
  },
  {
   "cell_type": "code",
   "execution_count": 58,
   "id": "8cb09a0d",
   "metadata": {},
   "outputs": [
    {
     "name": "stdout",
     "output_type": "stream",
     "text": [
      "<class 'pandas.core.frame.DataFrame'>\n",
      "RangeIndex: 7253 entries, 0 to 7252\n",
      "Data columns (total 14 columns):\n",
      " #   Column             Non-Null Count  Dtype  \n",
      "---  ------             --------------  -----  \n",
      " 0   S.No.              7253 non-null   int64  \n",
      " 1   Location           7253 non-null   object \n",
      " 2   Year               7253 non-null   int64  \n",
      " 3   Kilometers_Driven  7253 non-null   int64  \n",
      " 4   Fuel_Type          7253 non-null   object \n",
      " 5   Transmission       7253 non-null   object \n",
      " 6   Owner_Type         7253 non-null   object \n",
      " 7   Seats              7253 non-null   float64\n",
      " 8   Price              7253 non-null   float64\n",
      " 9   Brand              7253 non-null   object \n",
      " 10  Model              7253 non-null   object \n",
      " 11  Mileage_value      7253 non-null   float64\n",
      " 12  Engine_value       7253 non-null   float64\n",
      " 13  Power_value        7253 non-null   float64\n",
      "dtypes: float64(5), int64(3), object(6)\n",
      "memory usage: 793.4+ KB\n"
     ]
    }
   ],
   "source": [
    "df1.info()"
   ]
  },
  {
   "cell_type": "markdown",
   "id": "b5e932ff",
   "metadata": {},
   "source": [
    "# Lets look at Summary of the data"
   ]
  },
  {
   "cell_type": "code",
   "execution_count": 59,
   "id": "dc27666e",
   "metadata": {},
   "outputs": [
    {
     "data": {
      "text/html": [
       "<div>\n",
       "<style scoped>\n",
       "    .dataframe tbody tr th:only-of-type {\n",
       "        vertical-align: middle;\n",
       "    }\n",
       "\n",
       "    .dataframe tbody tr th {\n",
       "        vertical-align: top;\n",
       "    }\n",
       "\n",
       "    .dataframe thead th {\n",
       "        text-align: right;\n",
       "    }\n",
       "</style>\n",
       "<table border=\"1\" class=\"dataframe\">\n",
       "  <thead>\n",
       "    <tr style=\"text-align: right;\">\n",
       "      <th></th>\n",
       "      <th>count</th>\n",
       "      <th>unique</th>\n",
       "      <th>top</th>\n",
       "      <th>freq</th>\n",
       "      <th>mean</th>\n",
       "      <th>std</th>\n",
       "      <th>min</th>\n",
       "      <th>25%</th>\n",
       "      <th>50%</th>\n",
       "      <th>75%</th>\n",
       "      <th>max</th>\n",
       "    </tr>\n",
       "  </thead>\n",
       "  <tbody>\n",
       "    <tr>\n",
       "      <th>S.No.</th>\n",
       "      <td>7253</td>\n",
       "      <td>NaN</td>\n",
       "      <td>NaN</td>\n",
       "      <td>NaN</td>\n",
       "      <td>3626</td>\n",
       "      <td>2093.91</td>\n",
       "      <td>0</td>\n",
       "      <td>1813</td>\n",
       "      <td>3626</td>\n",
       "      <td>5439</td>\n",
       "      <td>7252</td>\n",
       "    </tr>\n",
       "    <tr>\n",
       "      <th>Location</th>\n",
       "      <td>7253</td>\n",
       "      <td>11</td>\n",
       "      <td>Mumbai</td>\n",
       "      <td>949</td>\n",
       "      <td>NaN</td>\n",
       "      <td>NaN</td>\n",
       "      <td>NaN</td>\n",
       "      <td>NaN</td>\n",
       "      <td>NaN</td>\n",
       "      <td>NaN</td>\n",
       "      <td>NaN</td>\n",
       "    </tr>\n",
       "    <tr>\n",
       "      <th>Year</th>\n",
       "      <td>7253</td>\n",
       "      <td>NaN</td>\n",
       "      <td>NaN</td>\n",
       "      <td>NaN</td>\n",
       "      <td>2013.37</td>\n",
       "      <td>3.25442</td>\n",
       "      <td>1996</td>\n",
       "      <td>2011</td>\n",
       "      <td>2014</td>\n",
       "      <td>2016</td>\n",
       "      <td>2019</td>\n",
       "    </tr>\n",
       "    <tr>\n",
       "      <th>Kilometers_Driven</th>\n",
       "      <td>7253</td>\n",
       "      <td>NaN</td>\n",
       "      <td>NaN</td>\n",
       "      <td>NaN</td>\n",
       "      <td>51293.5</td>\n",
       "      <td>23443</td>\n",
       "      <td>171</td>\n",
       "      <td>34000</td>\n",
       "      <td>53416</td>\n",
       "      <td>67000</td>\n",
       "      <td>109703</td>\n",
       "    </tr>\n",
       "    <tr>\n",
       "      <th>Fuel_Type</th>\n",
       "      <td>7253</td>\n",
       "      <td>5</td>\n",
       "      <td>Diesel</td>\n",
       "      <td>3852</td>\n",
       "      <td>NaN</td>\n",
       "      <td>NaN</td>\n",
       "      <td>NaN</td>\n",
       "      <td>NaN</td>\n",
       "      <td>NaN</td>\n",
       "      <td>NaN</td>\n",
       "      <td>NaN</td>\n",
       "    </tr>\n",
       "    <tr>\n",
       "      <th>Transmission</th>\n",
       "      <td>7253</td>\n",
       "      <td>2</td>\n",
       "      <td>Manual</td>\n",
       "      <td>5204</td>\n",
       "      <td>NaN</td>\n",
       "      <td>NaN</td>\n",
       "      <td>NaN</td>\n",
       "      <td>NaN</td>\n",
       "      <td>NaN</td>\n",
       "      <td>NaN</td>\n",
       "      <td>NaN</td>\n",
       "    </tr>\n",
       "    <tr>\n",
       "      <th>Owner_Type</th>\n",
       "      <td>7253</td>\n",
       "      <td>4</td>\n",
       "      <td>First</td>\n",
       "      <td>5952</td>\n",
       "      <td>NaN</td>\n",
       "      <td>NaN</td>\n",
       "      <td>NaN</td>\n",
       "      <td>NaN</td>\n",
       "      <td>NaN</td>\n",
       "      <td>NaN</td>\n",
       "      <td>NaN</td>\n",
       "    </tr>\n",
       "    <tr>\n",
       "      <th>Seats</th>\n",
       "      <td>7253</td>\n",
       "      <td>NaN</td>\n",
       "      <td>NaN</td>\n",
       "      <td>NaN</td>\n",
       "      <td>5.27837</td>\n",
       "      <td>0.806668</td>\n",
       "      <td>2</td>\n",
       "      <td>5</td>\n",
       "      <td>5</td>\n",
       "      <td>5</td>\n",
       "      <td>10</td>\n",
       "    </tr>\n",
       "    <tr>\n",
       "      <th>Price</th>\n",
       "      <td>7253</td>\n",
       "      <td>NaN</td>\n",
       "      <td>NaN</td>\n",
       "      <td>NaN</td>\n",
       "      <td>9.31163</td>\n",
       "      <td>10.7514</td>\n",
       "      <td>0.44</td>\n",
       "      <td>3.5</td>\n",
       "      <td>5.59</td>\n",
       "      <td>9.85</td>\n",
       "      <td>160</td>\n",
       "    </tr>\n",
       "    <tr>\n",
       "      <th>Brand</th>\n",
       "      <td>7253</td>\n",
       "      <td>33</td>\n",
       "      <td>Maruti</td>\n",
       "      <td>1444</td>\n",
       "      <td>NaN</td>\n",
       "      <td>NaN</td>\n",
       "      <td>NaN</td>\n",
       "      <td>NaN</td>\n",
       "      <td>NaN</td>\n",
       "      <td>NaN</td>\n",
       "      <td>NaN</td>\n",
       "    </tr>\n",
       "    <tr>\n",
       "      <th>Model</th>\n",
       "      <td>7253</td>\n",
       "      <td>219</td>\n",
       "      <td>Swift</td>\n",
       "      <td>418</td>\n",
       "      <td>NaN</td>\n",
       "      <td>NaN</td>\n",
       "      <td>NaN</td>\n",
       "      <td>NaN</td>\n",
       "      <td>NaN</td>\n",
       "      <td>NaN</td>\n",
       "      <td>NaN</td>\n",
       "    </tr>\n",
       "    <tr>\n",
       "      <th>Mileage_value</th>\n",
       "      <td>7253</td>\n",
       "      <td>NaN</td>\n",
       "      <td>NaN</td>\n",
       "      <td>NaN</td>\n",
       "      <td>18.3449</td>\n",
       "      <td>4.13408</td>\n",
       "      <td>6.4</td>\n",
       "      <td>15.4</td>\n",
       "      <td>18.2</td>\n",
       "      <td>21.1</td>\n",
       "      <td>33.54</td>\n",
       "    </tr>\n",
       "    <tr>\n",
       "      <th>Engine_value</th>\n",
       "      <td>7253</td>\n",
       "      <td>NaN</td>\n",
       "      <td>NaN</td>\n",
       "      <td>NaN</td>\n",
       "      <td>1615.56</td>\n",
       "      <td>594.318</td>\n",
       "      <td>72</td>\n",
       "      <td>1198</td>\n",
       "      <td>1493</td>\n",
       "      <td>1968</td>\n",
       "      <td>5998</td>\n",
       "    </tr>\n",
       "    <tr>\n",
       "      <th>Power_value</th>\n",
       "      <td>7253</td>\n",
       "      <td>NaN</td>\n",
       "      <td>NaN</td>\n",
       "      <td>NaN</td>\n",
       "      <td>112.181</td>\n",
       "      <td>53.4026</td>\n",
       "      <td>34.2</td>\n",
       "      <td>74</td>\n",
       "      <td>92.7</td>\n",
       "      <td>138.03</td>\n",
       "      <td>616</td>\n",
       "    </tr>\n",
       "  </tbody>\n",
       "</table>\n",
       "</div>"
      ],
      "text/plain": [
       "                  count unique     top  freq     mean       std   min    25%  \\\n",
       "S.No.              7253    NaN     NaN   NaN     3626   2093.91     0   1813   \n",
       "Location           7253     11  Mumbai   949      NaN       NaN   NaN    NaN   \n",
       "Year               7253    NaN     NaN   NaN  2013.37   3.25442  1996   2011   \n",
       "Kilometers_Driven  7253    NaN     NaN   NaN  51293.5     23443   171  34000   \n",
       "Fuel_Type          7253      5  Diesel  3852      NaN       NaN   NaN    NaN   \n",
       "Transmission       7253      2  Manual  5204      NaN       NaN   NaN    NaN   \n",
       "Owner_Type         7253      4   First  5952      NaN       NaN   NaN    NaN   \n",
       "Seats              7253    NaN     NaN   NaN  5.27837  0.806668     2      5   \n",
       "Price              7253    NaN     NaN   NaN  9.31163   10.7514  0.44    3.5   \n",
       "Brand              7253     33  Maruti  1444      NaN       NaN   NaN    NaN   \n",
       "Model              7253    219   Swift   418      NaN       NaN   NaN    NaN   \n",
       "Mileage_value      7253    NaN     NaN   NaN  18.3449   4.13408   6.4   15.4   \n",
       "Engine_value       7253    NaN     NaN   NaN  1615.56   594.318    72   1198   \n",
       "Power_value        7253    NaN     NaN   NaN  112.181   53.4026  34.2     74   \n",
       "\n",
       "                     50%     75%     max  \n",
       "S.No.               3626    5439    7252  \n",
       "Location             NaN     NaN     NaN  \n",
       "Year                2014    2016    2019  \n",
       "Kilometers_Driven  53416   67000  109703  \n",
       "Fuel_Type            NaN     NaN     NaN  \n",
       "Transmission         NaN     NaN     NaN  \n",
       "Owner_Type           NaN     NaN     NaN  \n",
       "Seats                  5       5      10  \n",
       "Price               5.59    9.85     160  \n",
       "Brand                NaN     NaN     NaN  \n",
       "Model                NaN     NaN     NaN  \n",
       "Mileage_value       18.2    21.1   33.54  \n",
       "Engine_value        1493    1968    5998  \n",
       "Power_value         92.7  138.03     616  "
      ]
     },
     "execution_count": 59,
     "metadata": {},
     "output_type": "execute_result"
    }
   ],
   "source": [
    "df1.describe(include='all').T"
   ]
  },
  {
   "cell_type": "code",
   "execution_count": 60,
   "id": "64ec9cd9",
   "metadata": {},
   "outputs": [
    {
     "data": {
      "text/html": [
       "<div>\n",
       "<style scoped>\n",
       "    .dataframe tbody tr th:only-of-type {\n",
       "        vertical-align: middle;\n",
       "    }\n",
       "\n",
       "    .dataframe tbody tr th {\n",
       "        vertical-align: top;\n",
       "    }\n",
       "\n",
       "    .dataframe thead th {\n",
       "        text-align: right;\n",
       "    }\n",
       "</style>\n",
       "<table border=\"1\" class=\"dataframe\">\n",
       "  <thead>\n",
       "    <tr style=\"text-align: right;\">\n",
       "      <th></th>\n",
       "      <th>count</th>\n",
       "      <th>mean</th>\n",
       "      <th>std</th>\n",
       "      <th>min</th>\n",
       "      <th>25%</th>\n",
       "      <th>50%</th>\n",
       "      <th>75%</th>\n",
       "      <th>max</th>\n",
       "    </tr>\n",
       "  </thead>\n",
       "  <tbody>\n",
       "    <tr>\n",
       "      <th>S.No.</th>\n",
       "      <td>7253.0</td>\n",
       "      <td>3626.000000</td>\n",
       "      <td>2093.905084</td>\n",
       "      <td>0.00</td>\n",
       "      <td>1813.0</td>\n",
       "      <td>3626.00</td>\n",
       "      <td>5439.00</td>\n",
       "      <td>7252.00</td>\n",
       "    </tr>\n",
       "    <tr>\n",
       "      <th>Year</th>\n",
       "      <td>7253.0</td>\n",
       "      <td>2013.365366</td>\n",
       "      <td>3.254421</td>\n",
       "      <td>1996.00</td>\n",
       "      <td>2011.0</td>\n",
       "      <td>2014.00</td>\n",
       "      <td>2016.00</td>\n",
       "      <td>2019.00</td>\n",
       "    </tr>\n",
       "    <tr>\n",
       "      <th>Kilometers_Driven</th>\n",
       "      <td>7253.0</td>\n",
       "      <td>51293.529436</td>\n",
       "      <td>23442.970204</td>\n",
       "      <td>171.00</td>\n",
       "      <td>34000.0</td>\n",
       "      <td>53416.00</td>\n",
       "      <td>67000.00</td>\n",
       "      <td>109703.00</td>\n",
       "    </tr>\n",
       "    <tr>\n",
       "      <th>Seats</th>\n",
       "      <td>7253.0</td>\n",
       "      <td>5.278368</td>\n",
       "      <td>0.806668</td>\n",
       "      <td>2.00</td>\n",
       "      <td>5.0</td>\n",
       "      <td>5.00</td>\n",
       "      <td>5.00</td>\n",
       "      <td>10.00</td>\n",
       "    </tr>\n",
       "    <tr>\n",
       "      <th>Price</th>\n",
       "      <td>7253.0</td>\n",
       "      <td>9.311626</td>\n",
       "      <td>10.751377</td>\n",
       "      <td>0.44</td>\n",
       "      <td>3.5</td>\n",
       "      <td>5.59</td>\n",
       "      <td>9.85</td>\n",
       "      <td>160.00</td>\n",
       "    </tr>\n",
       "    <tr>\n",
       "      <th>Mileage_value</th>\n",
       "      <td>7253.0</td>\n",
       "      <td>18.344850</td>\n",
       "      <td>4.134077</td>\n",
       "      <td>6.40</td>\n",
       "      <td>15.4</td>\n",
       "      <td>18.20</td>\n",
       "      <td>21.10</td>\n",
       "      <td>33.54</td>\n",
       "    </tr>\n",
       "    <tr>\n",
       "      <th>Engine_value</th>\n",
       "      <td>7253.0</td>\n",
       "      <td>1615.556322</td>\n",
       "      <td>594.317617</td>\n",
       "      <td>72.00</td>\n",
       "      <td>1198.0</td>\n",
       "      <td>1493.00</td>\n",
       "      <td>1968.00</td>\n",
       "      <td>5998.00</td>\n",
       "    </tr>\n",
       "    <tr>\n",
       "      <th>Power_value</th>\n",
       "      <td>7253.0</td>\n",
       "      <td>112.181453</td>\n",
       "      <td>53.402579</td>\n",
       "      <td>34.20</td>\n",
       "      <td>74.0</td>\n",
       "      <td>92.70</td>\n",
       "      <td>138.03</td>\n",
       "      <td>616.00</td>\n",
       "    </tr>\n",
       "  </tbody>\n",
       "</table>\n",
       "</div>"
      ],
      "text/plain": [
       "                    count          mean           std      min      25%  \\\n",
       "S.No.              7253.0   3626.000000   2093.905084     0.00   1813.0   \n",
       "Year               7253.0   2013.365366      3.254421  1996.00   2011.0   \n",
       "Kilometers_Driven  7253.0  51293.529436  23442.970204   171.00  34000.0   \n",
       "Seats              7253.0      5.278368      0.806668     2.00      5.0   \n",
       "Price              7253.0      9.311626     10.751377     0.44      3.5   \n",
       "Mileage_value      7253.0     18.344850      4.134077     6.40     15.4   \n",
       "Engine_value       7253.0   1615.556322    594.317617    72.00   1198.0   \n",
       "Power_value        7253.0    112.181453     53.402579    34.20     74.0   \n",
       "\n",
       "                        50%       75%        max  \n",
       "S.No.               3626.00   5439.00    7252.00  \n",
       "Year                2014.00   2016.00    2019.00  \n",
       "Kilometers_Driven  53416.00  67000.00  109703.00  \n",
       "Seats                  5.00      5.00      10.00  \n",
       "Price                  5.59      9.85     160.00  \n",
       "Mileage_value         18.20     21.10      33.54  \n",
       "Engine_value        1493.00   1968.00    5998.00  \n",
       "Power_value           92.70    138.03     616.00  "
      ]
     },
     "execution_count": 60,
     "metadata": {},
     "output_type": "execute_result"
    }
   ],
   "source": [
    "df1.describe().T"
   ]
  },
  {
   "cell_type": "code",
   "execution_count": 61,
   "id": "4861b303",
   "metadata": {},
   "outputs": [
    {
     "data": {
      "text/html": [
       "<div>\n",
       "<style scoped>\n",
       "    .dataframe tbody tr th:only-of-type {\n",
       "        vertical-align: middle;\n",
       "    }\n",
       "\n",
       "    .dataframe tbody tr th {\n",
       "        vertical-align: top;\n",
       "    }\n",
       "\n",
       "    .dataframe thead th {\n",
       "        text-align: right;\n",
       "    }\n",
       "</style>\n",
       "<table border=\"1\" class=\"dataframe\">\n",
       "  <thead>\n",
       "    <tr style=\"text-align: right;\">\n",
       "      <th></th>\n",
       "      <th>count</th>\n",
       "      <th>unique</th>\n",
       "      <th>top</th>\n",
       "      <th>freq</th>\n",
       "    </tr>\n",
       "  </thead>\n",
       "  <tbody>\n",
       "    <tr>\n",
       "      <th>Location</th>\n",
       "      <td>7253</td>\n",
       "      <td>11</td>\n",
       "      <td>Mumbai</td>\n",
       "      <td>949</td>\n",
       "    </tr>\n",
       "    <tr>\n",
       "      <th>Fuel_Type</th>\n",
       "      <td>7253</td>\n",
       "      <td>5</td>\n",
       "      <td>Diesel</td>\n",
       "      <td>3852</td>\n",
       "    </tr>\n",
       "    <tr>\n",
       "      <th>Transmission</th>\n",
       "      <td>7253</td>\n",
       "      <td>2</td>\n",
       "      <td>Manual</td>\n",
       "      <td>5204</td>\n",
       "    </tr>\n",
       "    <tr>\n",
       "      <th>Owner_Type</th>\n",
       "      <td>7253</td>\n",
       "      <td>4</td>\n",
       "      <td>First</td>\n",
       "      <td>5952</td>\n",
       "    </tr>\n",
       "    <tr>\n",
       "      <th>Brand</th>\n",
       "      <td>7253</td>\n",
       "      <td>33</td>\n",
       "      <td>Maruti</td>\n",
       "      <td>1444</td>\n",
       "    </tr>\n",
       "    <tr>\n",
       "      <th>Model</th>\n",
       "      <td>7253</td>\n",
       "      <td>219</td>\n",
       "      <td>Swift</td>\n",
       "      <td>418</td>\n",
       "    </tr>\n",
       "  </tbody>\n",
       "</table>\n",
       "</div>"
      ],
      "text/plain": [
       "             count unique     top  freq\n",
       "Location      7253     11  Mumbai   949\n",
       "Fuel_Type     7253      5  Diesel  3852\n",
       "Transmission  7253      2  Manual  5204\n",
       "Owner_Type    7253      4   First  5952\n",
       "Brand         7253     33  Maruti  1444\n",
       "Model         7253    219   Swift   418"
      ]
     },
     "execution_count": 61,
     "metadata": {},
     "output_type": "execute_result"
    }
   ],
   "source": [
    "df1.describe(include='object').T"
   ]
  },
  {
   "cell_type": "markdown",
   "id": "bcbf82db",
   "metadata": {},
   "source": [
    "# Outlier Treatment"
   ]
  },
  {
   "cell_type": "markdown",
   "id": "5a5a1479",
   "metadata": {},
   "source": [
    "### Outlier detection using boxplot"
   ]
  },
  {
   "cell_type": "code",
   "execution_count": 62,
   "id": "2a2bf678",
   "metadata": {},
   "outputs": [
    {
     "data": {
      "text/plain": [
       "['S.No.',\n",
       " 'Year',\n",
       " 'Kilometers_Driven',\n",
       " 'Seats',\n",
       " 'Price',\n",
       " 'Mileage_value',\n",
       " 'Engine_value',\n",
       " 'Power_value']"
      ]
     },
     "execution_count": 62,
     "metadata": {},
     "output_type": "execute_result"
    }
   ],
   "source": [
    "# Create numeric column list\n",
    "Numeric_columns=df1.select_dtypes(include=np.number).columns.tolist()\n",
    "Numeric_columns"
   ]
  },
  {
   "cell_type": "code",
   "execution_count": 63,
   "id": "94c48a17",
   "metadata": {},
   "outputs": [
    {
     "data": {
      "text/plain": [
       "['Location', 'Fuel_Type', 'Transmission', 'Owner_Type', 'Brand', 'Model']"
      ]
     },
     "execution_count": 63,
     "metadata": {},
     "output_type": "execute_result"
    }
   ],
   "source": [
    "# Create catagorical column list\n",
    "catagorical_columns=df1.select_dtypes(include=object).columns.tolist()\n",
    "catagorical_columns"
   ]
  },
  {
   "cell_type": "code",
   "execution_count": 64,
   "id": "2332ea13",
   "metadata": {},
   "outputs": [
    {
     "data": {
      "image/png": "[encoded data removed]",
      "text/plain": [
       "<Figure size 1440x2160 with 8 Axes>"
      ]
     },
     "metadata": {
      "needs_background": "light"
     },
     "output_type": "display_data"
    }
   ],
   "source": [
    "plt.figure(figsize=(20,30))\n",
    "\n",
    "for i, variable in enumerate(Numeric_columns):\n",
    "                     plt.subplot(10,4,i+1)\n",
    "                     plt.boxplot(df1[variable],whis=1.5)\n",
    "                     plt.tight_layout()\n",
    "                     plt.title(variable)\n",
    "                    \n",
    "plt.show()"
   ]
  },
  {
   "cell_type": "code",
   "execution_count": 65,
   "id": "92f0401f",
   "metadata": {},
   "outputs": [],
   "source": [
    "# Histogram"
   ]
  },
  {
   "cell_type": "code",
   "execution_count": 66,
   "id": "96edc429",
   "metadata": {},
   "outputs": [
    {
     "data": {
      "image/png": "[encoded data removed]",
      "text/plain": [
       "<Figure size 1440x2160 with 8 Axes>"
      ]
     },
     "metadata": {
      "needs_background": "light"
     },
     "output_type": "display_data"
    }
   ],
   "source": [
    "plt.figure(figsize=(20,30))\n",
    "\n",
    "for i, variable in enumerate(Numeric_columns):\n",
    "                     plt.subplot(10,4,i+1)\n",
    "                     plt.hist(df1[variable])\n",
    "                     plt.tight_layout()\n",
    "                     plt.title(variable)"
   ]
  },
  {
   "cell_type": "markdown",
   "id": "86734d1b",
   "metadata": {},
   "source": [
    "<p style = \"font-size : 20px ; color: black;font-family:TimesNewRoman\">\n",
    "    <b>Observations</b></p>\n",
    "\n",
    "- As we can see, outliers are present in the data, so lets fix the outliers.\n",
    "- Year and Seats are the important columns, so we can not remove the outliers from these two columns."
   ]
  },
  {
   "cell_type": "markdown",
   "id": "a6e85770",
   "metadata": {},
   "source": [
    "## Caping of outliers from data"
   ]
  },
  {
   "cell_type": "code",
   "execution_count": 67,
   "id": "bd49d119",
   "metadata": {},
   "outputs": [],
   "source": [
    "Numeric_columns1=['Mileage_value','Engine_value','Power_value']"
   ]
  },
  {
   "cell_type": "code",
   "execution_count": 68,
   "id": "ccec11b6",
   "metadata": {},
   "outputs": [],
   "source": [
    "def LRwhisker(Numeric_columns1):\n",
    "    q1=df1[Numeric_columns1].quantile(0.25)\n",
    "    q3=df1[Numeric_columns1].quantile(0.75)\n",
    "    IQR=q3-q1\n",
    "    \n",
    "    Q1 = q1-1.5*IQR\n",
    "    Q3 = q3+1.5*IQR\n",
    "    df1[Numeric_columns1]=np.clip(df1[Numeric_columns1],Q1,Q3)"
   ]
  },
  {
   "cell_type": "code",
   "execution_count": 69,
   "id": "1d777387",
   "metadata": {},
   "outputs": [],
   "source": [
    "for i in Numeric_columns1:\n",
    "    LRwhisker(i)"
   ]
  },
  {
   "cell_type": "markdown",
   "id": "bca6911e",
   "metadata": {},
   "source": [
    "## To check whether outliers are removed or not"
   ]
  },
  {
   "cell_type": "code",
   "execution_count": 70,
   "id": "f498aa1d",
   "metadata": {},
   "outputs": [
    {
     "data": {
      "image/png": "[encoded data removed]",
      "text/plain": [
       "<Figure size 1440x2160 with 3 Axes>"
      ]
     },
     "metadata": {
      "needs_background": "light"
     },
     "output_type": "display_data"
    }
   ],
   "source": [
    "plt.figure(figsize=(20,30))\n",
    "\n",
    "for i, variable in enumerate(Numeric_columns1):\n",
    "                     plt.subplot(10,4,i+1)\n",
    "                     plt.boxplot(df1[variable],whis=1.5)\n",
    "                     plt.tight_layout()\n",
    "                     plt.title(variable)\n",
    "                    \n",
    "plt.show()"
   ]
  },
  {
   "cell_type": "code",
   "execution_count": 71,
   "id": "1c5ab2d0",
   "metadata": {},
   "outputs": [
    {
     "data": {
      "image/png": "[encoded data removed]",
      "text/plain": [
       "<Figure size 1440x2160 with 3 Axes>"
      ]
     },
     "metadata": {
      "needs_background": "light"
     },
     "output_type": "display_data"
    }
   ],
   "source": [
    "plt.figure(figsize=(20,30))\n",
    "\n",
    "for i, variable in enumerate(Numeric_columns1):\n",
    "                     plt.subplot(10,4,i+1)\n",
    "                     plt.hist(df1[variable])\n",
    "                     plt.tight_layout()\n",
    "                     plt.title(variable)\n",
    "                    \n",
    "plt.show()"
   ]
  },
  {
   "cell_type": "markdown",
   "id": "04285981",
   "metadata": {},
   "source": [
    "# Model Building"
   ]
  },
  {
   "cell_type": "code",
   "execution_count": 72,
   "id": "9b22dffb",
   "metadata": {},
   "outputs": [
    {
     "data": {
      "text/plain": [
       "Index(['S.No.', 'Location', 'Year', 'Kilometers_Driven', 'Fuel_Type',\n",
       "       'Transmission', 'Owner_Type', 'Seats', 'Price', 'Brand', 'Model',\n",
       "       'Mileage_value', 'Engine_value', 'Power_value'],\n",
       "      dtype='object')"
      ]
     },
     "execution_count": 72,
     "metadata": {},
     "output_type": "execute_result"
    }
   ],
   "source": [
    "df1.columns"
   ]
  },
  {
   "cell_type": "code",
   "execution_count": 73,
   "id": "f188cab0",
   "metadata": {},
   "outputs": [
    {
     "name": "stdout",
     "output_type": "stream",
     "text": [
      "     Location  Year  Kilometers_Driven Fuel_Type Transmission Owner_Type  \\\n",
      "0      Mumbai  2010              72000       CNG       Manual      First   \n",
      "1        Pune  2015              41000    Diesel       Manual      First   \n",
      "2     Chennai  2011              46000    Petrol       Manual      First   \n",
      "3     Chennai  2012              87000    Diesel       Manual      First   \n",
      "4  Coimbatore  2013              40670    Diesel    Automatic     Second   \n",
      "\n",
      "   Seats    Brand   Model  Mileage_value  Engine_value  Power_value  \n",
      "0    5.0   Maruti   Wagon          26.60         998.0        58.16  \n",
      "1    5.0  Hyundai   Creta          19.67        1582.0       126.20  \n",
      "2    5.0    Honda    Jazz          18.20        1199.0        88.70  \n",
      "3    7.0   Maruti  Ertiga          20.77        1248.0        88.76  \n",
      "4    5.0     Audi      A4          15.20        1968.0       140.80  \n",
      "   Price\n",
      "0   1.75\n",
      "1  12.50\n",
      "2   4.50\n",
      "3   6.00\n",
      "4  17.74\n"
     ]
    }
   ],
   "source": [
    "# Defining X and Y variables\n",
    "\n",
    "x= df1.drop(['Price','S.No.'],axis=1)\n",
    "y= df1[['Price']]\n",
    "\n",
    "print(x.head())\n",
    "print(y.head())"
   ]
  },
  {
   "cell_type": "code",
   "execution_count": 74,
   "id": "86c698d8",
   "metadata": {},
   "outputs": [
    {
     "name": "stdout",
     "output_type": "stream",
     "text": [
      "(7253, 12)\n",
      "(7253, 1)\n"
     ]
    }
   ],
   "source": [
    "print(x.shape)\n",
    "print(y.shape)"
   ]
  },
  {
   "cell_type": "markdown",
   "id": "639b9662",
   "metadata": {},
   "source": [
    "## Create Dummies"
   ]
  },
  {
   "cell_type": "code",
   "execution_count": 75,
   "id": "d696659d",
   "metadata": {},
   "outputs": [
    {
     "data": {
      "text/plain": [
       "Index(['Location', 'Fuel_Type', 'Transmission', 'Owner_Type', 'Brand',\n",
       "       'Model'],\n",
       "      dtype='object')"
      ]
     },
     "execution_count": 75,
     "metadata": {},
     "output_type": "execute_result"
    }
   ],
   "source": [
    "catagorical_columns = x.columns[x.dtypes == 'object']\n",
    "\n",
    "catagorical_columns"
   ]
  },
  {
   "cell_type": "code",
   "execution_count": 76,
   "id": "ce84d4fd",
   "metadata": {},
   "outputs": [
    {
     "data": {
      "text/html": [
       "<div>\n",
       "<style scoped>\n",
       "    .dataframe tbody tr th:only-of-type {\n",
       "        vertical-align: middle;\n",
       "    }\n",
       "\n",
       "    .dataframe tbody tr th {\n",
       "        vertical-align: top;\n",
       "    }\n",
       "\n",
       "    .dataframe thead th {\n",
       "        text-align: right;\n",
       "    }\n",
       "</style>\n",
       "<table border=\"1\" class=\"dataframe\">\n",
       "  <thead>\n",
       "    <tr style=\"text-align: right;\">\n",
       "      <th></th>\n",
       "      <th>Year</th>\n",
       "      <th>Kilometers_Driven</th>\n",
       "      <th>Seats</th>\n",
       "      <th>Mileage_value</th>\n",
       "      <th>Engine_value</th>\n",
       "      <th>Power_value</th>\n",
       "      <th>Location_Bangalore</th>\n",
       "      <th>Location_Chennai</th>\n",
       "      <th>Location_Coimbatore</th>\n",
       "      <th>Location_Delhi</th>\n",
       "      <th>...</th>\n",
       "      <th>Model_Xcent</th>\n",
       "      <th>Model_Xenon</th>\n",
       "      <th>Model_Xylo</th>\n",
       "      <th>Model_Yeti</th>\n",
       "      <th>Model_Z4</th>\n",
       "      <th>Model_Zen</th>\n",
       "      <th>Model_Zest</th>\n",
       "      <th>Model_i10</th>\n",
       "      <th>Model_i20</th>\n",
       "      <th>Model_redi-GO</th>\n",
       "    </tr>\n",
       "  </thead>\n",
       "  <tbody>\n",
       "    <tr>\n",
       "      <th>0</th>\n",
       "      <td>2010</td>\n",
       "      <td>72000</td>\n",
       "      <td>5.0</td>\n",
       "      <td>26.60</td>\n",
       "      <td>998.0</td>\n",
       "      <td>58.16</td>\n",
       "      <td>0</td>\n",
       "      <td>0</td>\n",
       "      <td>0</td>\n",
       "      <td>0</td>\n",
       "      <td>...</td>\n",
       "      <td>0</td>\n",
       "      <td>0</td>\n",
       "      <td>0</td>\n",
       "      <td>0</td>\n",
       "      <td>0</td>\n",
       "      <td>0</td>\n",
       "      <td>0</td>\n",
       "      <td>0</td>\n",
       "      <td>0</td>\n",
       "      <td>0</td>\n",
       "    </tr>\n",
       "    <tr>\n",
       "      <th>1</th>\n",
       "      <td>2015</td>\n",
       "      <td>41000</td>\n",
       "      <td>5.0</td>\n",
       "      <td>19.67</td>\n",
       "      <td>1582.0</td>\n",
       "      <td>126.20</td>\n",
       "      <td>0</td>\n",
       "      <td>0</td>\n",
       "      <td>0</td>\n",
       "      <td>0</td>\n",
       "      <td>...</td>\n",
       "      <td>0</td>\n",
       "      <td>0</td>\n",
       "      <td>0</td>\n",
       "      <td>0</td>\n",
       "      <td>0</td>\n",
       "      <td>0</td>\n",
       "      <td>0</td>\n",
       "      <td>0</td>\n",
       "      <td>0</td>\n",
       "      <td>0</td>\n",
       "    </tr>\n",
       "    <tr>\n",
       "      <th>2</th>\n",
       "      <td>2011</td>\n",
       "      <td>46000</td>\n",
       "      <td>5.0</td>\n",
       "      <td>18.20</td>\n",
       "      <td>1199.0</td>\n",
       "      <td>88.70</td>\n",
       "      <td>0</td>\n",
       "      <td>1</td>\n",
       "      <td>0</td>\n",
       "      <td>0</td>\n",
       "      <td>...</td>\n",
       "      <td>0</td>\n",
       "      <td>0</td>\n",
       "      <td>0</td>\n",
       "      <td>0</td>\n",
       "      <td>0</td>\n",
       "      <td>0</td>\n",
       "      <td>0</td>\n",
       "      <td>0</td>\n",
       "      <td>0</td>\n",
       "      <td>0</td>\n",
       "    </tr>\n",
       "    <tr>\n",
       "      <th>3</th>\n",
       "      <td>2012</td>\n",
       "      <td>87000</td>\n",
       "      <td>7.0</td>\n",
       "      <td>20.77</td>\n",
       "      <td>1248.0</td>\n",
       "      <td>88.76</td>\n",
       "      <td>0</td>\n",
       "      <td>1</td>\n",
       "      <td>0</td>\n",
       "      <td>0</td>\n",
       "      <td>...</td>\n",
       "      <td>0</td>\n",
       "      <td>0</td>\n",
       "      <td>0</td>\n",
       "      <td>0</td>\n",
       "      <td>0</td>\n",
       "      <td>0</td>\n",
       "      <td>0</td>\n",
       "      <td>0</td>\n",
       "      <td>0</td>\n",
       "      <td>0</td>\n",
       "    </tr>\n",
       "    <tr>\n",
       "      <th>4</th>\n",
       "      <td>2013</td>\n",
       "      <td>40670</td>\n",
       "      <td>5.0</td>\n",
       "      <td>15.20</td>\n",
       "      <td>1968.0</td>\n",
       "      <td>140.80</td>\n",
       "      <td>0</td>\n",
       "      <td>0</td>\n",
       "      <td>1</td>\n",
       "      <td>0</td>\n",
       "      <td>...</td>\n",
       "      <td>0</td>\n",
       "      <td>0</td>\n",
       "      <td>0</td>\n",
       "      <td>0</td>\n",
       "      <td>0</td>\n",
       "      <td>0</td>\n",
       "      <td>0</td>\n",
       "      <td>0</td>\n",
       "      <td>0</td>\n",
       "      <td>0</td>\n",
       "    </tr>\n",
       "  </tbody>\n",
       "</table>\n",
       "<p>5 rows × 274 columns</p>\n",
       "</div>"
      ],
      "text/plain": [
       "   Year  Kilometers_Driven  Seats  Mileage_value  Engine_value  Power_value  \\\n",
       "0  2010              72000    5.0          26.60         998.0        58.16   \n",
       "1  2015              41000    5.0          19.67        1582.0       126.20   \n",
       "2  2011              46000    5.0          18.20        1199.0        88.70   \n",
       "3  2012              87000    7.0          20.77        1248.0        88.76   \n",
       "4  2013              40670    5.0          15.20        1968.0       140.80   \n",
       "\n",
       "   Location_Bangalore  Location_Chennai  Location_Coimbatore  Location_Delhi  \\\n",
       "0                   0                 0                    0               0   \n",
       "1                   0                 0                    0               0   \n",
       "2                   0                 1                    0               0   \n",
       "3                   0                 1                    0               0   \n",
       "4                   0                 0                    1               0   \n",
       "\n",
       "   ...  Model_Xcent  Model_Xenon  Model_Xylo  Model_Yeti  Model_Z4  Model_Zen  \\\n",
       "0  ...            0            0           0           0         0          0   \n",
       "1  ...            0            0           0           0         0          0   \n",
       "2  ...            0            0           0           0         0          0   \n",
       "3  ...            0            0           0           0         0          0   \n",
       "4  ...            0            0           0           0         0          0   \n",
       "\n",
       "   Model_Zest  Model_i10  Model_i20  Model_redi-GO  \n",
       "0           0          0          0              0  \n",
       "1           0          0          0              0  \n",
       "2           0          0          0              0  \n",
       "3           0          0          0              0  \n",
       "4           0          0          0              0  \n",
       "\n",
       "[5 rows x 274 columns]"
      ]
     },
     "execution_count": 76,
     "metadata": {},
     "output_type": "execute_result"
    }
   ],
   "source": [
    "\n",
    "x= pd.get_dummies(x,columns=catagorical_columns,drop_first=True)\n",
    "x.head()"
   ]
  },
  {
   "cell_type": "markdown",
   "id": "dd63472a",
   "metadata": {},
   "source": [
    "### Split the data into train and test"
   ]
  },
  {
   "cell_type": "code",
   "execution_count": 77,
   "id": "411a9aeb",
   "metadata": {},
   "outputs": [],
   "source": [
    "# split the data into train and test\n",
    "\n",
    "from sklearn.model_selection import train_test_split\n",
    "x_train, x_test, y_train, y_test = train_test_split(x,y,test_size=0.3,random_state=40)"
   ]
  },
  {
   "cell_type": "markdown",
   "id": "acfd5924",
   "metadata": {},
   "source": [
    "### Lets build model using Sklearn"
   ]
  },
  {
   "cell_type": "code",
   "execution_count": 78,
   "id": "d84c362f",
   "metadata": {},
   "outputs": [
    {
     "data": {
      "text/plain": [
       "LinearRegression()"
      ]
     },
     "execution_count": 78,
     "metadata": {},
     "output_type": "execute_result"
    }
   ],
   "source": [
    "# Fitting linear Model\n",
    "\n",
    "from sklearn.linear_model import LinearRegression\n",
    "ln = LinearRegression()\n",
    "ln.fit(x_train,y_train)"
   ]
  },
  {
   "cell_type": "code",
   "execution_count": 79,
   "id": "bb7c702d",
   "metadata": {},
   "outputs": [
    {
     "name": "stdout",
     "output_type": "stream",
     "text": [
      "Intercept of the linear equation: [-1588.4839556]\n",
      "Intercept of the linear equation: [[ 7.93156039e-01 -3.23667511e-05  3.13353741e-01 -7.87503836e-02\n",
      "  -1.49555909e-04  6.56936061e-02  1.57608418e+00  7.81429421e-01\n",
      "   1.63380074e+00 -2.18049392e-01  1.41177708e+00  6.37166274e-01\n",
      "  -1.78891232e-01 -8.80375819e-01 -4.74985282e-01  4.09191474e-01\n",
      "   1.09671163e+00  3.80863841e+00  6.08793706e-01 -4.02640929e-01\n",
      "  -1.61642757e-01  4.41282803e-01 -3.91033936e-01  4.65460004e-02\n",
      "   6.61197672e+00 -1.94787464e+00 -7.01480997e+00 -8.04226886e+00\n",
      "  -8.33627243e+00 -7.15261190e+00 -3.34411628e+00 -6.35163387e+00\n",
      "   2.91864630e+00 -8.11841761e+00 -4.98578260e+00 -3.76796218e+00\n",
      "  -7.44856613e+00  2.65388304e+01 -2.11285573e+00  4.96171271e+01\n",
      "   8.20824774e+00 -8.08906379e+00 -3.78280995e+00  6.01885891e+00\n",
      "   6.68709769e+00 -5.30533994e+00 -8.59092435e+00 -5.31920983e-01\n",
      "   2.08974921e+01 -7.65337163e+00 -5.83278094e+00 -2.61493938e-10\n",
      "  -5.45749538e+00 -4.18123680e+00 -7.57655145e+00 -1.87360952e+00\n",
      "  -5.31920983e-01  6.19891168e+00  5.09868553e-01 -6.15077893e+00\n",
      "   4.55486738e+00  2.19864026e+01  1.37807203e+01  1.81992137e+00\n",
      "  -6.61378468e+00 -2.41855297e+00 -6.24228747e+00 -6.87801358e+00\n",
      "  -4.40488511e+00  4.53211197e-01  6.78814272e-01 -7.12470430e+00\n",
      "  -1.23421030e+00 -7.92262195e-01 -3.24262571e+00 -1.03100006e+00\n",
      "  -2.96005935e+00 -2.99332476e+00  2.02404285e+00 -3.81115773e+00\n",
      "  -7.89765236e+00 -2.21505949e+00 -1.29078756e+00 -4.18237435e+00\n",
      "   2.72229904e-01  1.99134931e-10  1.42360739e+00 -5.30491454e+00\n",
      "   2.00783142e+01 -6.24171430e-01  5.19130167e+00  5.40905438e-01\n",
      "   3.26765144e+00  1.30816748e+00  5.30954348e+00 -3.05513721e+00\n",
      "   7.17383570e-01 -1.42696076e+01  1.85810750e+00 -2.01398408e+00\n",
      "  -4.83764223e+00 -3.69856528e+00  6.54407661e-01 -2.21008195e-01\n",
      "  -2.31553222e+00  4.45538627e+00 -2.11285573e+00 -3.34432926e-10\n",
      "   2.23171141e+00 -1.94878460e+00  2.31088482e-10 -1.47803410e+00\n",
      "  -1.86070836e+00 -4.05527897e+00 -3.76796218e+00 -2.38479573e-01\n",
      "  -3.90485444e+00 -8.90310048e-12 -2.68488185e+00 -3.73766076e+00\n",
      "  -2.32593150e+00 -1.24972924e+00 -6.61867737e+00 -2.53310361e+00\n",
      "  -2.81390830e+00  4.91425249e+00 -1.95985660e+00 -3.85955330e+00\n",
      "  -3.68591420e-01 -1.63791878e+00 -3.57400632e+00 -2.29208056e+00\n",
      "   4.84330091e+01 -2.11496032e-01 -1.41744309e-02 -2.23835389e+00\n",
      "  -6.52338876e-01 -7.01480997e+00  2.06381929e+00 -2.84366308e-10\n",
      "  -1.17613937e+00  2.48725485e-11  1.30395673e+01 -2.55037147e+00\n",
      "   2.02840914e+01  2.69757470e+01  2.26346360e+01 -2.21898689e+00\n",
      "   4.96171271e+01  6.48384353e-01 -4.46382279e+00 -1.19443973e+00\n",
      "  -3.00111842e+00 -6.22405044e+00  1.04729906e+00 -3.01122178e+00\n",
      "  -3.12068006e+00 -4.14399978e-01 -8.12208549e-01  6.50719055e-01\n",
      "   7.06799924e-01 -2.62409184e+00 -2.26233851e+00 -6.08377325e-01\n",
      "   4.18782601e+00 -1.10069383e+01 -1.84444907e+00 -1.89612624e+00\n",
      "  -2.81565854e+00  2.82923237e+00  2.69652777e+00 -7.44856613e+00\n",
      "  -3.76628173e-11 -3.85376882e+00  7.14905267e-01 -1.68978330e+00\n",
      "  -4.47126501e+00  2.91864630e+00  2.39435138e-11 -2.84479509e+00\n",
      "  -5.22602318e+00 -4.11360305e+00 -4.22060856e+00  1.31736999e+00\n",
      "  -4.15030794e+00 -3.34411628e+00 -5.68226169e-01 -2.59034074e+00\n",
      "  -4.17576115e-01  1.32306781e+01 -1.88264903e+00  2.41092394e+00\n",
      "   5.86215521e-11 -5.34577345e-01  3.80863841e+00 -3.34596191e-01\n",
      "  -9.04497423e-01 -5.00943639e+00  3.75131128e+00  8.46756444e+00\n",
      "   1.58089118e+00 -2.80006696e+00 -9.92888889e-01  1.20533930e+01\n",
      "  -3.20232960e+00 -3.64030308e+00  2.33908393e+00 -4.49147179e+00\n",
      "   8.20824774e+00 -4.30449516e+00 -6.33102214e+00 -4.23501390e+00\n",
      "  -2.27604194e+00 -6.54644325e+00  5.23831420e+00  2.43255794e+01\n",
      "   5.97716544e+01 -4.04517408e+00 -5.44555135e+00 -1.08823782e+00\n",
      "  -2.65965436e+00  6.22509089e-01 -1.45896618e+00 -4.05007189e-01\n",
      "   5.36738959e+00 -3.70862682e+00  1.68199846e+00 -1.85763863e+00\n",
      "  -5.27834405e+00  4.59010916e-01 -1.08807825e+00 -3.91164317e+00\n",
      "   3.74230509e+00 -2.20368551e+00 -1.29380330e+00 -2.29037636e+00\n",
      "   3.35811881e-01 -3.81891476e-01 -5.24585100e+00 -4.34316818e+00\n",
      "   0.00000000e+00  6.13853872e-01  2.52524650e+00 -1.04535729e+00\n",
      "  -3.95422413e+00  8.22201861e-02 -3.97328919e+00  1.38029519e+00\n",
      "  -4.02943820e+00 -1.22251835e+00 -1.82193606e-01 -3.12336063e+00\n",
      "   6.32583443e-01  1.28616672e+00  7.71608332e+00  1.83476790e+01\n",
      "   2.06037653e+01  8.81760103e-01  3.54186906e+00 -1.46619749e+01\n",
      "  -1.94972718e+01  1.22650680e+01  2.09350492e+00 -3.64558051e-01\n",
      "  -3.82959263e+00 -8.84422219e+00 -2.64988343e+00 -8.03797981e-01\n",
      "   2.33139724e+01  6.53516884e-02 -4.79717208e+00 -1.60496024e+00\n",
      "  -2.74599877e+00 -2.47698246e+00]]\n"
     ]
    }
   ],
   "source": [
    "print('Intercept of the linear equation:',ln.intercept_)\n",
    "print('Intercept of the linear equation:',ln.coef_)"
   ]
  },
  {
   "cell_type": "code",
   "execution_count": 80,
   "id": "d10eaa9d",
   "metadata": {},
   "outputs": [
    {
     "name": "stdout",
     "output_type": "stream",
     "text": [
      "Requirement already satisfied: scikit-learn==0.24 in c:\\users\\lenovo\\anaconda3\\lib\\site-packages (0.24.0)\n",
      "Requirement already satisfied: numpy>=1.13.3 in c:\\users\\lenovo\\anaconda3\\lib\\site-packages (from scikit-learn==0.24) (1.18.1)\n",
      "Requirement already satisfied: joblib>=0.11 in c:\\users\\lenovo\\anaconda3\\lib\\site-packages (from scikit-learn==0.24) (0.14.1)\n",
      "Requirement already satisfied: scipy>=0.19.1 in c:\\users\\lenovo\\anaconda3\\lib\\site-packages (from scikit-learn==0.24) (1.4.1)\n",
      "Requirement already satisfied: threadpoolctl>=2.0.0 in c:\\users\\lenovo\\anaconda3\\lib\\site-packages (from scikit-learn==0.24) (3.0.0)\n"
     ]
    }
   ],
   "source": [
    "!pip install scikit-learn==0.24"
   ]
  },
  {
   "cell_type": "code",
   "execution_count": 81,
   "id": "b8e4659b",
   "metadata": {},
   "outputs": [],
   "source": [
    "from sklearn.metrics import mean_absolute_error,mean_squared_error,r2_score \n",
    "from sklearn.metrics import mean_absolute_percentage_error\n",
    "pred_train = ln.predict(x_train)\n",
    "pred_test = ln.predict(x_test)"
   ]
  },
  {
   "cell_type": "code",
   "execution_count": 82,
   "id": "c5a1d8d6",
   "metadata": {},
   "outputs": [
    {
     "data": {
      "text/plain": [
       "array([[ 8.50574138],\n",
       "       [ 5.96045528],\n",
       "       [ 0.16655716],\n",
       "       ...,\n",
       "       [ 4.63679606],\n",
       "       [ 5.20421336],\n",
       "       [22.52737967]])"
      ]
     },
     "execution_count": 82,
     "metadata": {},
     "output_type": "execute_result"
    }
   ],
   "source": [
    "pred_train"
   ]
  },
  {
   "cell_type": "code",
   "execution_count": 83,
   "id": "10522b82",
   "metadata": {},
   "outputs": [
    {
     "data": {
      "text/plain": [
       "array([[42.97455572],\n",
       "       [ 5.76519588],\n",
       "       [ 1.83499006],\n",
       "       ...,\n",
       "       [ 5.07306895],\n",
       "       [ 6.02080909],\n",
       "       [ 5.54932245]])"
      ]
     },
     "execution_count": 83,
     "metadata": {},
     "output_type": "execute_result"
    }
   ],
   "source": [
    "pred_test"
   ]
  },
  {
   "cell_type": "code",
   "execution_count": 84,
   "id": "33396221",
   "metadata": {},
   "outputs": [
    {
     "data": {
      "image/png": "[encoded data removed]",
      "text/plain": [
       "<Figure size 432x288 with 1 Axes>"
      ]
     },
     "metadata": {
      "needs_background": "light"
     },
     "output_type": "display_data"
    }
   ],
   "source": [
    "# Distribution plot to compare actual Price vs predicted Price\n",
    "ax1=sns.distplot(df1['Price'], hist=False, color='r', label='Actual Value')\n",
    "sns.distplot(pred_test, hist=False, color='b', label='Fitted Value', ax=ax1)\n",
    "\n",
    "plt.title('Actual vs Fitted Value')\n",
    "plt.xlabel('Price')\n",
    "plt.ylabel('Predicted_price')\n",
    "plt.legend()\n",
    "plt.show()"
   ]
  },
  {
   "cell_type": "markdown",
   "id": "f5e0784d",
   "metadata": {},
   "source": [
    "### Lets look at model performances"
   ]
  },
  {
   "cell_type": "code",
   "execution_count": 85,
   "id": "86d08728",
   "metadata": {},
   "outputs": [
    {
     "name": "stdout",
     "output_type": "stream",
     "text": [
      "MAE on train: 2.100887656762055\n",
      "MAE on test: 2.3858506198206015\n"
     ]
    }
   ],
   "source": [
    "# Mean absolute error on train and test\n",
    "\n",
    "print('MAE on train:',mean_absolute_error(y_train,pred_train))\n",
    "print('MAE on test:',mean_absolute_error(y_test,pred_test))"
   ]
  },
  {
   "cell_type": "code",
   "execution_count": 86,
   "id": "6122ddb2",
   "metadata": {},
   "outputs": [
    {
     "name": "stdout",
     "output_type": "stream",
     "text": [
      "MSE on train: 4.0314779528824065\n",
      "MSE on test: 4.762445877900908\n"
     ]
    }
   ],
   "source": [
    "# Mean squared error on train and test\n",
    "print('MSE on train:',mean_squared_error(y_train,pred_train)**0.5)\n",
    "print('MSE on test:',mean_squared_error(y_test,pred_test)**0.5)"
   ]
  },
  {
   "cell_type": "code",
   "execution_count": 87,
   "id": "cc0c5961",
   "metadata": {},
   "outputs": [
    {
     "name": "stdout",
     "output_type": "stream",
     "text": [
      "R2 score on train: 0.8556769061029924\n",
      "R2 score on test: 0.8148297070386596\n"
     ]
    }
   ],
   "source": [
    "# R2 Squared on train and test\n",
    "print('R2 score on train:',r2_score(y_train,pred_train))\n",
    "print('R2 score on test:',r2_score(y_test,pred_test))"
   ]
  },
  {
   "cell_type": "code",
   "execution_count": 88,
   "id": "d255920f",
   "metadata": {},
   "outputs": [
    {
     "name": "stdout",
     "output_type": "stream",
     "text": [
      "MAPE on train: 0.37357454401584644\n",
      "MAPE on test: 0.41446898784107244\n"
     ]
    }
   ],
   "source": [
    "# MAPE on train and test\n",
    "print('MAPE on train:',mean_absolute_percentage_error(y_train,pred_train))\n",
    "print('MAPE on test:',mean_absolute_percentage_error(y_test,pred_test))"
   ]
  },
  {
   "cell_type": "markdown",
   "id": "d4e1cef7",
   "metadata": {},
   "source": [
    "### Lets build model using Statmodel to compare results"
   ]
  },
  {
   "cell_type": "code",
   "execution_count": 89,
   "id": "77161062",
   "metadata": {},
   "outputs": [
    {
     "name": "stdout",
     "output_type": "stream",
     "text": [
      "                            OLS Regression Results                            \n",
      "==============================================================================\n",
      "Dep. Variable:                  Price   R-squared:                       0.852\n",
      "Model:                            OLS   Adj. R-squared:                  0.845\n",
      "Method:                 Least Squares   F-statistic:                     120.7\n",
      "Date:                Mon, 24 Jan 2022   Prob (F-statistic):               0.00\n",
      "Time:                        19:03:41   Log-Likelihood:                -14510.\n",
      "No. Observations:                5077   AIC:                         2.948e+04\n",
      "Df Residuals:                    4845   BIC:                         3.100e+04\n",
      "Df Model:                         231                                         \n",
      "Covariance Type:            nonrobust                                         \n",
      "=============================================================================================\n",
      "                                coef    std err          t      P>|t|      [0.025      0.975]\n",
      "---------------------------------------------------------------------------------------------\n",
      "const                     -1629.5266     61.043    -26.695      0.000   -1749.199   -1509.855\n",
      "Year                          0.8476      0.032     26.813      0.000       0.786       0.910\n",
      "Kilometers_Driven         -2.995e-05   3.45e-06     -8.677      0.000   -3.67e-05   -2.32e-05\n",
      "Seats                         0.7924      0.305      2.600      0.009       0.195       1.390\n",
      "Mileage_value                -0.0760      0.040     -1.879      0.060      -0.155       0.003\n",
      "Engine_value              -9.946e-06      0.000     -0.020      0.984      -0.001       0.001\n",
      "Power_value                   0.0608      0.006     10.089      0.000       0.049       0.073\n",
      "Location_Bangalore            1.4818      0.406      3.648      0.000       0.685       2.278\n",
      "Location_Chennai              0.8438      0.387      2.183      0.029       0.086       1.602\n",
      "Location_Coimbatore           1.3069      0.372      3.512      0.000       0.577       2.036\n",
      "Location_Delhi               -0.5326      0.376     -1.417      0.156      -1.269       0.204\n",
      "Location_Hyderabad            1.2525      0.366      3.422      0.001       0.535       1.970\n",
      "Location_Jaipur               0.4651      0.397      1.172      0.241      -0.313       1.243\n",
      "Location_Kochi               -0.1617      0.372     -0.435      0.664      -0.891       0.567\n",
      "Location_Kolkata             -1.0104      0.383     -2.637      0.008      -1.762      -0.259\n",
      "Location_Mumbai              -0.4061      0.364     -1.115      0.265      -1.120       0.308\n",
      "Location_Pune                 0.1551      0.373      0.416      0.678      -0.576       0.887\n",
      "Fuel_Type_Diesel              1.3187      0.715      1.845      0.065      -0.082       2.719\n",
      "Fuel_Type_Electric            1.5177      2.090      0.726      0.468      -2.581       5.616\n",
      "Fuel_Type_LPG                -0.1944      1.500     -0.130      0.897      -3.134       2.745\n",
      "Fuel_Type_Petrol             -0.1296      0.734     -0.177      0.860      -1.568       1.309\n",
      "Transmission_Manual          -0.0360      0.224     -0.161      0.872      -0.475       0.403\n",
      "Owner_Type_Fourth & Above     1.5489      1.515      1.022      0.307      -1.421       4.519\n",
      "Owner_Type_Second            -0.3749      0.184     -2.040      0.041      -0.735      -0.015\n",
      "Owner_Type_Third              0.1539      0.481      0.320      0.749      -0.789       1.097\n",
      "Brand_Audi                  -58.5798      2.456    -23.850      0.000     -63.395     -53.765\n",
      "Brand_BMW                   -73.7312      3.908    -18.866      0.000     -81.393     -66.070\n",
      "Brand_Bentley               -14.0811      2.460     -5.723      0.000     -18.905      -9.257\n",
      "Brand_Chevrolet             -71.0937      2.377    -29.903      0.000     -75.755     -66.433\n",
      "Brand_Datsun                -62.0164      2.376    -26.097      0.000     -66.675     -57.358\n",
      "Brand_Fiat                  -69.1192      2.468    -28.003      0.000     -73.958     -64.280\n",
      "Brand_Force                 -40.0300      2.049    -19.534      0.000     -44.048     -36.013\n",
      "Brand_Ford                  -67.8328      2.492    -27.215      0.000     -72.719     -62.946\n",
      "Brand_Hindustan            3.221e-10   1.02e-10      3.161      0.002    1.22e-10    5.22e-10\n",
      "Brand_Honda                 -73.8986      2.491    -29.670      0.000     -78.782     -69.016\n",
      "Brand_Hyundai               -71.7434      3.480    -20.614      0.000     -78.566     -64.920\n",
      "Brand_ISUZU                 -40.8860      2.070    -19.756      0.000     -44.943     -36.829\n",
      "Brand_Isuzu                 -54.2902      2.791    -19.455      0.000     -59.761     -48.820\n",
      "Brand_Jaguar                -30.7462      2.377    -12.934      0.000     -35.407     -26.086\n",
      "Brand_Jeep                  -37.7325      1.465    -25.758      0.000     -40.604     -34.861\n",
      "Brand_Lamborghini            15.2199      2.548      5.973      0.000      10.224      20.215\n",
      "Brand_Land                  -26.0409      1.381    -18.851      0.000     -28.749     -23.333\n",
      "Brand_Mahindra              -75.0678      2.617    -28.681      0.000     -80.199     -69.937\n",
      "Brand_Maruti                -73.0867      2.858    -25.575      0.000     -78.689     -67.484\n",
      "Brand_Mercedes-Benz         -58.5159      2.858    -20.471      0.000     -64.120     -52.912\n",
      "Brand_Mini                  -40.5630      2.269    -17.875      0.000     -45.012     -36.114\n",
      "Brand_Mitsubishi            -61.9318      2.417    -25.625      0.000     -66.670     -57.194\n",
      "Brand_Nissan                -68.5300      2.412    -28.415      0.000     -73.258     -63.802\n",
      "Brand_OpelCorsa             -35.8748      2.452    -14.630      0.000     -40.682     -31.067\n",
      "Brand_Porsche               -33.3164      2.332    -14.287      0.000     -37.888     -28.745\n",
      "Brand_Renault               -71.1573      2.486    -28.620      0.000     -76.031     -66.283\n",
      "Brand_Skoda                 -66.7419      2.279    -29.291      0.000     -71.209     -62.275\n",
      "Brand_Smart               -1.192e-10   3.75e-11     -3.174      0.002   -1.93e-10   -4.56e-11\n",
      "Brand_Tata                  -72.1051      3.372    -21.382      0.000     -78.716     -65.494\n",
      "Brand_Toyota                -67.6459      2.493    -27.130      0.000     -72.534     -62.758\n",
      "Brand_Volkswagen            -67.8691      2.453    -27.665      0.000     -72.679     -63.060\n",
      "Brand_Volvo                 -60.5188      2.393    -25.291      0.000     -65.210     -55.828\n",
      "Model_1.4Gsi                -35.8748      2.452    -14.630      0.000     -40.682     -31.067\n",
      "Model_1000                    5.0560      4.465      1.132      0.258      -3.697      13.809\n",
      "Model_3                       1.3671      3.106      0.440      0.660      -4.722       7.457\n",
      "Model_370Z                -2.267e-11   7.18e-12     -3.156      0.002   -3.67e-11   -8.59e-12\n",
      "Model_5                       6.3219      3.122      2.025      0.043       0.201      12.442\n",
      "Model_6                      27.4703      3.478      7.899      0.000      20.652      34.288\n",
      "Model_7                      21.0006      3.312      6.340      0.000      14.507      27.494\n",
      "Model_800                     1.0207      1.863      0.548      0.584      -2.631       4.673\n",
      "Model_A                     -13.1628      2.083     -6.320      0.000     -17.246      -9.080\n",
      "Model_A-Star                 -4.3118      1.927     -2.237      0.025      -8.090      -0.534\n",
      "Model_A3                    -12.1282      2.103     -5.767      0.000     -16.251      -8.005\n",
      "Model_A4                    -12.7575      0.879    -14.518      0.000     -14.480     -11.035\n",
      "Model_A6                     -9.7115      0.894    -10.858      0.000     -11.465      -7.958\n",
      "Model_A7                     -4.8166      2.861     -1.683      0.092     -10.426       0.792\n",
      "Model_A8                    -19.6438      3.978     -4.938      0.000     -27.443     -11.845\n",
      "Model_Abarth                -15.6924      3.923     -4.000      0.000     -23.384      -8.001\n",
      "Model_Accent                 -5.1125      2.697     -1.895      0.058     -10.400       0.175\n",
      "Model_Accord                 -5.7768      1.008     -5.728      0.000      -7.754      -3.800\n",
      "Model_Alto                   -5.1946      1.365     -3.806      0.000      -7.871      -2.519\n",
      "Model_Amaze                  -6.5518      0.699     -9.370      0.000      -7.923      -5.181\n",
      "Model_Ameo                  -13.8495      1.336    -10.370      0.000     -16.468     -11.231\n",
      "Model_Aspire                -12.7335      2.365     -5.385      0.000     -17.369      -8.098\n",
      "Model_Aveo                   -5.8946      1.355     -4.350      0.000      -8.551      -3.238\n",
      "Model_Avventura             -11.8777      2.027     -5.858      0.000     -15.852      -7.903\n",
      "Model_B                     -15.0322      2.015     -7.460      0.000     -18.982     -11.082\n",
      "Model_BR-V                   -8.4443      2.115     -3.992      0.000     -12.591      -4.297\n",
      "Model_BRV                    -7.6360      1.921     -3.975      0.000     -11.402      -3.870\n",
      "Model_Baleno                 -6.1907      1.428     -4.335      0.000      -8.990      -3.391\n",
      "Model_Beat                   -7.8416      0.907     -8.644      0.000      -9.620      -6.063\n",
      "Model_Beetle                  2.5974      3.902      0.666      0.506      -5.053      10.248\n",
      "Model_Bolero                 -4.0360      1.368     -2.951      0.003      -6.718      -1.354\n",
      "Model_Bolt                  -11.5109      4.875     -2.361      0.018     -21.068      -1.954\n",
      "Model_Boxster               4.36e-11   1.37e-11      3.175      0.002    1.67e-11    7.05e-11\n",
      "Model_Brio                   -6.0591      0.749     -8.087      0.000      -7.528      -4.590\n",
      "Model_C-Class                -1.9490      2.910     -0.670      0.503      -7.655       3.757\n",
      "Model_CLA                    -5.9509      2.017     -2.950      0.003      -9.906      -1.996\n",
      "Model_CLS-Class            6.013e-11   1.89e-11      3.179      0.001    2.31e-11    9.72e-11\n",
      "Model_CR-V                   -3.1459      1.001     -3.143      0.002      -5.108      -1.184\n",
      "Model_Camry                  -2.8248      1.610     -1.755      0.079      -5.981       0.331\n",
      "Model_Captiva               -11.5407      2.824     -4.086      0.000     -17.078      -6.004\n",
      "Model_Captur                 -6.7375      2.830     -2.380      0.017     -12.286      -1.189\n",
      "Model_Cayenne               -23.3078      2.012    -11.584      0.000     -27.252     -19.363\n",
      "Model_Cayman                -13.0081      3.404     -3.821      0.000     -19.682      -6.335\n",
      "Model_Cedia               -1.777e-10    5.6e-11     -3.176      0.002   -2.87e-10    -6.8e-11\n",
      "Model_Celerio                -6.7093      1.483     -4.525      0.000      -9.616      -3.802\n",
      "Model_Ciaz                   -5.5422      1.427     -3.884      0.000      -8.340      -2.745\n",
      "Model_City                   -4.5034      0.589     -7.652      0.000      -5.657      -3.350\n",
      "Model_Civic                  -4.9652      0.931     -5.335      0.000      -6.790      -3.141\n",
      "Model_Classic               -12.3304      2.862     -4.308      0.000     -17.942      -6.719\n",
      "Model_Clubman               -18.8252      3.038     -6.197      0.000     -24.781     -12.870\n",
      "Model_Compass               -37.7325      1.465    -25.758      0.000     -40.604     -34.861\n",
      "Model_Continental           -14.0811      2.460     -5.723      0.000     -18.905      -9.257\n",
      "Model_Cooper                -21.7378      1.816    -11.968      0.000     -25.299     -18.177\n",
      "Model_Corolla                -9.7125      1.018     -9.539      0.000     -11.709      -7.716\n",
      "Model_Countryman           1.899e-10   5.98e-11      3.176      0.002    7.27e-11    3.07e-10\n",
      "Model_Creta                  -5.6785      2.520     -2.253      0.024     -10.619      -0.738\n",
      "Model_CrossPolo             -12.2955      1.909     -6.442      0.000     -16.038      -8.553\n",
      "Model_Cruze                 -11.0779      1.277     -8.674      0.000     -13.582      -8.574\n",
      "Model_D-MAX                 -40.8860      2.070    -19.756      0.000     -44.943     -36.829\n",
      "Model_Duster                 -8.0372      0.972     -8.270      0.000      -9.942      -6.132\n",
      "Model_Dzire                  -5.6954      1.594     -3.572      0.000      -8.821      -2.570\n",
      "Model_E                       2.9057      3.066      0.948      0.343      -3.105       8.916\n",
      "Model_E-Class                -9.0110      1.578     -5.709      0.000     -12.106      -5.916\n",
      "Model_EON                    -8.1403      2.422     -3.361      0.001     -12.889      -3.392\n",
      "Model_EcoSport              -11.9368      0.948    -12.590      0.000     -13.795     -10.078\n",
      "Model_Ecosport              -11.0541      0.909    -12.166      0.000     -12.835      -9.273\n",
      "Model_Eeco                   -8.5284      1.791     -4.763      0.000     -12.039      -5.018\n",
      "Model_Elantra                -6.1908      2.629     -2.355      0.019     -11.345      -1.037\n",
      "Model_Elite                  -7.7873      2.628     -2.963      0.003     -12.940      -2.635\n",
      "Model_Endeavour              -4.3807      1.271     -3.447      0.001      -6.872      -1.889\n",
      "Model_Enjoy                 -11.8183      1.729     -6.837      0.000     -15.207      -8.430\n",
      "Model_Ertiga                 -6.8560      1.561     -4.391      0.000      -9.917      -3.795\n",
      "Model_Esteem                 -2.0726      2.312     -0.896      0.370      -6.606       2.460\n",
      "Model_Estilo                 -3.1961      2.783     -1.148      0.251      -8.653       2.260\n",
      "Model_Etios                 -11.3729      1.099    -10.349      0.000     -13.527      -9.218\n",
      "Model_Evalia                -14.4131      3.811     -3.782      0.000     -21.884      -6.942\n",
      "Model_F                      36.6388      3.629     10.097      0.000      29.525      43.753\n",
      "Model_Fabia                 -10.7192      1.431     -7.491      0.000     -13.524      -7.914\n",
      "Model_Fiesta                -10.0894      0.985    -10.244      0.000     -12.020      -8.159\n",
      "Model_Figo                  -11.9043      0.820    -14.514      0.000     -13.512     -10.296\n",
      "Model_Fluence                -8.0678      2.075     -3.888      0.000     -12.135      -4.000\n",
      "Model_Flying               2.102e-10   6.62e-11      3.177      0.001    8.05e-11     3.4e-10\n",
      "Model_Fortuner               -6.0678      0.994     -6.104      0.000      -8.017      -4.119\n",
      "Model_Fortwo               3.005e-11   9.46e-12      3.177      0.001    1.15e-11    4.86e-11\n",
      "Model_Freestyle             -13.7003      2.367     -5.788      0.000     -18.341      -9.060\n",
      "Model_Fusion               1.089e-10   3.43e-11      3.176      0.002    4.17e-11    1.76e-10\n",
      "Model_GL-Class                5.2134      2.072      2.516      0.012       1.151       9.276\n",
      "Model_GLA                    -8.8986      1.947     -4.571      0.000     -12.715      -5.082\n",
      "Model_GLC                    12.3148      2.626      4.690      0.000       7.167      17.462\n",
      "Model_GLE                    21.1455      1.950     10.845      0.000      17.323      24.968\n",
      "Model_GLS                    26.3553      3.455      7.627      0.000      19.581      33.129\n",
      "Model_GO                    -20.3423      1.926    -10.564      0.000     -24.117     -16.567\n",
      "Model_Gallardo               15.2199      2.548      5.973      0.000      10.224      20.215\n",
      "Model_Getz                   -3.5631      2.899     -1.229      0.219      -9.246       2.120\n",
      "Model_Grand                  -8.9102      2.375     -3.752      0.000     -13.566      -4.255\n",
      "Model_Grande                -10.2385      2.018     -5.075      0.000     -14.194      -6.283\n",
      "Model_Hexa                 1.028e-10   3.24e-11      3.177      0.001    3.94e-11    1.66e-10\n",
      "Model_Ignis                  -8.4255      1.992     -4.230      0.000     -12.331      -4.520\n",
      "Model_Ikon                   -7.9513      1.324     -6.007      0.000     -10.546      -5.356\n",
      "Model_Indica                 -8.0785      2.453     -3.294      0.001     -12.887      -3.270\n",
      "Model_Indigo                 -7.8909      2.539     -3.108      0.002     -12.868      -2.914\n",
      "Model_Innova                 -9.2179      0.961     -9.588      0.000     -11.103      -7.333\n",
      "Model_Jazz                   -6.3210      0.793     -7.971      0.000      -7.876      -4.766\n",
      "Model_Jeep                   -2.3809      2.920     -0.815      0.415      -8.106       3.344\n",
      "Model_Jetta                 -10.0750      1.163     -8.666      0.000     -12.354      -7.796\n",
      "Model_KUV                    -7.3406      1.266     -5.796      0.000      -9.823      -4.858\n",
      "Model_KWID                  -10.2635      1.148     -8.942      0.000     -12.514      -8.013\n",
      "Model_Koleos                 -8.4715      2.386     -3.551      0.000     -13.148      -3.795\n",
      "Model_Lancer                -10.1669      2.760     -3.684      0.000     -15.578      -4.756\n",
      "Model_Land                  -19.2114      3.894     -4.934      0.000     -26.845     -11.577\n",
      "Model_Laura                 -12.0569      0.903    -13.345      0.000     -13.828     -10.286\n",
      "Model_Linea                 -10.9922      1.806     -6.085      0.000     -14.533      -7.451\n",
      "Model_Lodgy                 -12.0878      3.988     -3.031      0.002     -19.905      -4.270\n",
      "Model_Logan                -1.47e-10   4.63e-11     -3.176      0.002   -2.38e-10   -5.63e-11\n",
      "Model_M-Class                -1.5073      1.740     -0.866      0.387      -4.919       1.905\n",
      "Model_MU                    -32.6647      3.373     -9.685      0.000     -39.277     -26.053\n",
      "Model_MUX                   -21.6255      3.352     -6.452      0.000     -28.197     -15.054\n",
      "Model_Manza                  -8.2463      2.623     -3.144      0.002     -13.388      -3.105\n",
      "Model_Micra                 -10.5964      1.183     -8.955      0.000     -12.916      -8.277\n",
      "Model_Mobilio                -8.2342      1.138     -7.233      0.000     -10.466      -6.002\n",
      "Model_Montero               -19.4556      3.645     -5.338      0.000     -26.601     -12.310\n",
      "Model_Motors              -1.145e-11   3.61e-12     -3.171      0.002   -1.85e-11   -4.37e-12\n",
      "Model_Mustang                28.2480      4.038      6.995      0.000      20.331      36.165\n",
      "Model_Nano                   -6.8444      2.746     -2.492      0.013     -12.228      -1.460\n",
      "Model_New                   -11.7105      1.565     -7.484      0.000     -14.778      -8.643\n",
      "Model_Nexon                  -8.4619      3.809     -2.221      0.026     -15.930      -0.994\n",
      "Model_NuvoSport              -9.6047      2.434     -3.946      0.000     -14.376      -4.833\n",
      "Model_Octavia                -8.0559      0.917     -8.789      0.000      -9.853      -6.259\n",
      "Model_Omni                   -6.0341      1.742     -3.464      0.001      -9.449      -2.619\n",
      "Model_One                   -40.0300      2.049    -19.534      0.000     -44.048     -36.013\n",
      "Model_Optra                  -7.8639      1.407     -5.588      0.000     -10.623      -5.105\n",
      "Model_Outlander             -16.6691      2.734     -6.098      0.000     -22.028     -11.310\n",
      "Model_Pajero                -15.6401      1.622     -9.642      0.000     -18.820     -12.460\n",
      "Model_Panamera                2.9996      1.909      1.571      0.116      -0.742       6.742\n",
      "Model_Passat                -12.1206      1.762     -6.880      0.000     -15.574      -8.667\n",
      "Model_Petra                  -6.1952      3.892     -1.592      0.111     -13.824       1.434\n",
      "Model_Platinum            -8.855e-11   2.79e-11     -3.177      0.001   -1.43e-10   -3.39e-11\n",
      "Model_Polo                  -11.6034      0.923    -12.569      0.000     -13.413      -9.794\n",
      "Model_Prius                  -1.3880      2.971     -0.467      0.640      -7.213       4.437\n",
      "Model_Pulse                  -8.0326      1.593     -5.042      0.000     -11.156      -4.909\n",
      "Model_Punto                 -10.8814      2.019     -5.389      0.000     -14.840      -6.923\n",
      "Model_Q3                    -10.2224      1.088     -9.396      0.000     -12.355      -8.089\n",
      "Model_Q5                     -0.3142      1.065     -0.295      0.768      -2.402       1.773\n",
      "Model_Q7                      6.3907      1.283      4.981      0.000       3.875       8.906\n",
      "Model_Qualis                 -7.8506      2.132     -3.682      0.000     -12.031      -3.670\n",
      "Model_Quanto                 -7.8722      2.424     -3.248      0.001     -12.624      -3.120\n",
      "Model_R-Class               -12.1887      2.956     -4.124      0.000     -17.983      -6.394\n",
      "Model_RS5                     5.3328      2.874      1.855      0.064      -0.302      10.968\n",
      "Model_Rapid                 -13.5537      0.849    -15.973      0.000     -15.217     -11.890\n",
      "Model_Redi                  -21.3672      3.368     -6.344      0.000     -27.970     -14.764\n",
      "Model_Renault                -2.3189      4.110     -0.564      0.573     -10.377       5.739\n",
      "Model_Ritz                   -6.2207      1.403     -4.435      0.000      -8.971      -3.471\n",
      "Model_Rover                 -26.0409      1.381    -18.851      0.000     -28.749     -23.333\n",
      "Model_S                      -6.3477      1.396     -4.546      0.000      -9.085      -3.610\n",
      "Model_S-Class               -13.2001      2.411     -5.474      0.000     -17.927      -8.473\n",
      "Model_S-Cross                -6.7040      4.453     -1.505      0.132     -15.434       2.026\n",
      "Model_S60                   -12.3268      1.890     -6.522      0.000     -16.032      -8.622\n",
      "Model_S80                   -18.1719      2.690     -6.754      0.000     -23.447     -12.897\n",
      "Model_SL-Class                0.8837      4.588      0.193      0.847      -8.111       9.878\n",
      "Model_SLC                    25.6116      3.482      7.356      0.000      18.786      32.437\n",
      "Model_SLK-Class              55.2139      4.599     12.007      0.000      46.198      64.229\n",
      "Model_SX4                    -5.7887      1.538     -3.763      0.000      -8.804      -2.773\n",
      "Model_Safari                -10.9100      2.902     -3.759      0.000     -16.600      -5.221\n",
      "Model_Sail                   -9.2087      1.431     -6.437      0.000     -12.013      -6.404\n",
      "Model_Santa                  -7.8557      3.010     -2.610      0.009     -13.756      -1.956\n",
      "Model_Santro                 -3.5758      2.441     -1.465      0.143      -8.362       1.211\n",
      "Model_Scala                  -9.4594      2.351     -4.023      0.000     -14.069      -4.850\n",
      "Model_Scorpio                -5.7898      0.946     -6.119      0.000      -7.645      -3.935\n",
      "Model_Siena                  -3.2417      3.910     -0.829      0.407     -10.906       4.423\n",
      "Model_Sonata                 -8.1863      3.040     -2.692      0.007     -14.147      -2.226\n",
      "Model_Spark                  -5.8479      1.320     -4.432      0.000      -8.435      -3.261\n",
      "Model_Ssangyong              -5.9403      1.425     -4.170      0.000      -8.733      -3.147\n",
      "Model_Sumo                  -11.3107      2.966     -3.813      0.000     -17.126      -5.496\n",
      "Model_Sunny                 -10.7177      1.261     -8.498      0.000     -13.190      -8.245\n",
      "Model_Superb                -11.5459      0.814    -14.190      0.000     -13.141      -9.951\n",
      "Model_Swift                  -5.7649      1.316     -4.380      0.000      -8.345      -3.184\n",
      "Model_TT                     -0.7091      2.459     -0.288      0.773      -5.531       4.112\n",
      "Model_TUV                    -7.0592      1.498     -4.714      0.000      -9.995      -4.123\n",
      "Model_Tavera                       0          0        nan        nan           0           0\n",
      "Model_Teana                 -12.0586      2.345     -5.143      0.000     -16.655      -7.462\n",
      "Model_Terrano               -10.9786      1.237     -8.873      0.000     -13.404      -8.553\n",
      "Model_Thar                   -5.3010      1.531     -3.462      0.001      -8.303      -2.299\n",
      "Model_Tiago                 -10.1914      2.664     -3.826      0.000     -15.413      -4.970\n",
      "Model_Tigor                  -9.1681      3.056     -3.000      0.003     -15.160      -3.177\n",
      "Model_Tiguan                  1.1999      3.910      0.307      0.759      -6.466       8.866\n",
      "Model_Tucson                 -4.9375      3.207     -1.540      0.124     -11.224       1.349\n",
      "Model_V40                    -8.4204      2.708     -3.110      0.002     -13.729      -3.112\n",
      "Model_Vento                 -11.7224      0.907    -12.929      0.000     -13.500      -9.945\n",
      "Model_Venture                -9.6906      4.840     -2.002      0.045     -19.180      -0.201\n",
      "Model_Verito                 -4.3377      1.817     -2.388      0.017      -7.899      -0.776\n",
      "Model_Verna                  -8.1263      2.479     -3.278      0.001     -12.987      -3.266\n",
      "Model_Versa                  -1.5901      4.563     -0.348      0.728     -10.536       7.356\n",
      "Model_Vitara                 -5.6918      1.472     -3.866      0.000      -8.578      -2.806\n",
      "Model_WR-V                   -6.9427      4.018     -1.728      0.084     -14.819       0.934\n",
      "Model_WRV                    -5.3181      2.367     -2.247      0.025      -9.958      -0.678\n",
      "Model_Wagon                  -4.3961      1.348     -3.260      0.001      -7.040      -1.752\n",
      "Model_X-Trail                -9.7656      2.756     -3.544      0.000     -15.168      -4.363\n",
      "Model_X1                      2.2117      3.182      0.695      0.487      -4.027       8.450\n",
      "Model_X3                     12.4942      3.392      3.684      0.000       5.845      19.144\n",
      "Model_X5                     14.7741      3.323      4.446      0.000       8.260      21.288\n",
      "Model_X6                     29.8258      3.665      8.139      0.000      22.642      37.010\n",
      "Model_XC60                  -11.6053      1.891     -6.139      0.000     -15.312      -7.899\n",
      "Model_XC90                   -9.9943      2.144     -4.662      0.000     -14.197      -5.792\n",
      "Model_XE                    -29.2857      2.322    -12.610      0.000     -33.839     -24.733\n",
      "Model_XF                    -32.6843      1.422    -22.979      0.000     -35.473     -29.896\n",
      "Model_XJ                     -5.4149      2.082     -2.601      0.009      -9.497      -1.333\n",
      "Model_XUV300                 -2.1629      4.108     -0.527      0.599     -10.215       5.890\n",
      "Model_XUV500                 -5.4643      0.816     -6.699      0.000      -7.063      -3.865\n",
      "Model_Xcent                  -8.3411      2.462     -3.388      0.001     -13.168      -3.514\n",
      "Model_Xenon                 -12.5339      3.102     -4.040      0.000     -18.616      -6.452\n",
      "Model_Xylo                   -8.3650      1.177     -7.105      0.000     -10.673      -6.057\n",
      "Model_Yeti                  -10.8104      1.931     -5.597      0.000     -14.597      -7.024\n",
      "Model_Z4                     36.9304      5.395      6.846      0.000      26.354      47.507\n",
      "Model_Zen                    -0.5656      1.577     -0.359      0.720      -3.658       2.527\n",
      "Model_Zest                   -9.2898      2.569     -3.616      0.000     -14.327      -4.253\n",
      "Model_i10                    -6.0445      2.415     -2.502      0.012     -10.780      -1.309\n",
      "Model_i20                    -7.2518      2.423     -2.993      0.003     -12.002      -2.502\n",
      "Model_redi-GO               -20.3068      1.986    -10.224      0.000     -24.201     -16.413\n",
      "==============================================================================\n",
      "Omnibus:                     5994.999   Durbin-Watson:                   2.004\n",
      "Prob(Omnibus):                  0.000   Jarque-Bera (JB):          3248770.886\n",
      "Skew:                           5.599   Prob(JB):                         0.00\n",
      "Kurtosis:                     126.419   Cond. No.                     1.82e+21\n",
      "==============================================================================\n",
      "\n",
      "Warnings:\n",
      "[1] Standard Errors assume that the covariance matrix of the errors is correctly specified.\n",
      "[2] The smallest eigenvalue is 4.89e-30. This might indicate that there are\n",
      "strong multicollinearity problems or that the design matrix is singular.\n"
     ]
    }
   ],
   "source": [
    "x= sm.add_constant(x)\n",
    "x_train1, x_test, y_train, y_test = train_test_split(x,y,test_size=0.3,random_state=42)\n",
    "\n",
    "olsmod0 = sm.OLS(y_train,x_train1)\n",
    "olsres0 = olsmod0.fit()\n",
    "print(olsres0.summary())"
   ]
  },
  {
   "cell_type": "markdown",
   "id": "3b64e80a",
   "metadata": {},
   "source": [
    "###### Lets check Multicollinearity of data"
   ]
  },
  {
   "cell_type": "code",
   "execution_count": 90,
   "id": "f4b6aca3",
   "metadata": {},
   "outputs": [
    {
     "name": "stdout",
     "output_type": "stream",
     "text": [
      "Series before feature selection: \n",
      "\n",
      "const                 0.000000\n",
      "Year                  2.903643\n",
      "Kilometers_Driven     1.759935\n",
      "Seats                16.687275\n",
      "Mileage_value         7.554965\n",
      "                       ...    \n",
      "Model_Zen                  inf\n",
      "Model_Zest                 inf\n",
      "Model_i10                  inf\n",
      "Model_i20                  inf\n",
      "Model_redi-GO              inf\n",
      "Length: 275, dtype: float64\n",
      "\n"
     ]
    }
   ],
   "source": [
    "# We will use VIF, to check if there is multicollinearity in the data.\n",
    "# Features having a VIF score >5 will be dropped/treated till all the features have a VIF score <5\n",
    "# Drop the column which has VIF > 5 one by one\n",
    "from statsmodels.stats.outliers_influence import variance_inflation_factor\n",
    "vif_series1 = pd.Series([variance_inflation_factor(x_train1.values,i) for i in range(x_train1.shape[1])],index=x_train1.columns)\n",
    "print('Series before feature selection: \\n\\n{}\\n'.format(vif_series1))"
   ]
  },
  {
   "cell_type": "code",
   "execution_count": 91,
   "id": "631fa2ed",
   "metadata": {},
   "outputs": [
    {
     "data": {
      "text/plain": [
       "Model_redi-GO     inf\n",
       "Model_Classic     inf\n",
       "Model_E           inf\n",
       "Model_Dzire       inf\n",
       "Model_Duster      inf\n",
       "                 ... \n",
       "Model_Hexa        NaN\n",
       "Model_Logan       NaN\n",
       "Model_Motors      NaN\n",
       "Model_Platinum    NaN\n",
       "Model_Tavera      NaN\n",
       "Length: 275, dtype: float64"
      ]
     },
     "execution_count": 91,
     "metadata": {},
     "output_type": "execute_result"
    }
   ],
   "source": [
    "vif_series1.sort_values(ascending=False)"
   ]
  },
  {
   "cell_type": "markdown",
   "id": "37091a65",
   "metadata": {},
   "source": [
    "###### Removing columns which has VIF value > 5"
   ]
  },
  {
   "cell_type": "code",
   "execution_count": 92,
   "id": "d39e9997",
   "metadata": {},
   "outputs": [],
   "source": [
    "# Creating formula for removing columns which has VIF value > 5\n",
    "\n",
    "def calculate_vif_(X,thresh=5.0):\n",
    "    variables=list(range(X.shape[1]))\n",
    "    dropped = True\n",
    "    while dropped:\n",
    "        dropped = False\n",
    "        vif=[variance_inflation_factor(X.iloc[:, variables].values, ix)\n",
    "             for ix in range(X.iloc[:, variables].shape[1])]\n",
    "       \n",
    "        maxloc = vif.index(max(vif))\n",
    "        if max(vif) > thresh:\n",
    "            print('Dropping \\''+ X.iloc[:,variables].columns[maxloc]+\n",
    "                 '\\' at index: ' + str(maxloc))\n",
    "            del variables[maxloc]\n",
    "            dropped = True\n",
    "           \n",
    "           \n",
    "    print(\"Remaining variables:\")\n",
    "    print(X.columns[variables])\n",
    "    return X.iloc[:, variables] "
   ]
  },
  {
   "cell_type": "code",
   "execution_count": 93,
   "id": "03dfc403",
   "metadata": {},
   "outputs": [
    {
     "name": "stdout",
     "output_type": "stream",
     "text": [
      "Dropping 'Fuel_Type_Electric' at index: 18\n",
      "Dropping 'Brand_Audi' at index: 24\n",
      "Dropping 'Brand_BMW' at index: 24\n",
      "Dropping 'Brand_Bentley' at index: 24\n",
      "Dropping 'Brand_Chevrolet' at index: 24\n",
      "Dropping 'Brand_Datsun' at index: 24\n",
      "Dropping 'Brand_Fiat' at index: 24\n",
      "Dropping 'Brand_Force' at index: 24\n",
      "Dropping 'Brand_Ford' at index: 24\n",
      "Dropping 'Brand_Honda' at index: 25\n",
      "Dropping 'Brand_Hyundai' at index: 25\n",
      "Dropping 'Brand_ISUZU' at index: 25\n",
      "Dropping 'Brand_Isuzu' at index: 25\n",
      "Dropping 'Brand_Jaguar' at index: 25\n",
      "Dropping 'Brand_Jeep' at index: 25\n",
      "Dropping 'Brand_Lamborghini' at index: 25\n",
      "Dropping 'Brand_Land' at index: 25\n",
      "Dropping 'Brand_Mahindra' at index: 25\n",
      "Dropping 'Brand_Mini' at index: 27\n",
      "Dropping 'Brand_Mitsubishi' at index: 27\n",
      "Dropping 'Brand_Nissan' at index: 27\n",
      "Dropping 'Brand_OpelCorsa' at index: 27\n",
      "Dropping 'Brand_Porsche' at index: 27\n",
      "Dropping 'Brand_Renault' at index: 27\n",
      "Dropping 'Brand_Skoda' at index: 27\n",
      "Dropping 'Brand_Toyota' at index: 29\n",
      "Dropping 'Brand_Volkswagen' at index: 29\n",
      "Dropping 'Brand_Volvo' at index: 29\n",
      "Dropping 'const' at index: 0\n",
      "Dropping 'Year' at index: 0\n",
      "Dropping 'Seats' at index: 1\n",
      "Dropping 'Brand_Maruti' at index: 22\n",
      "Dropping 'Engine_value' at index: 2\n",
      "Dropping 'Mileage_value' at index: 1\n",
      "Dropping 'Power_value' at index: 1\n",
      "Dropping 'Brand_Mercedes-Benz' at index: 19\n",
      "Dropping 'Fuel_Type_Diesel' at index: 11\n",
      "Dropping 'Brand_Tata' at index: 19\n",
      "Dropping 'Transmission_Manual' at index: 13\n",
      "Dropping 'Kilometers_Driven' at index: 0\n",
      "Remaining variables:\n",
      "Index(['Location_Bangalore', 'Location_Chennai', 'Location_Coimbatore',\n",
      "       'Location_Delhi', 'Location_Hyderabad', 'Location_Jaipur',\n",
      "       'Location_Kochi', 'Location_Kolkata', 'Location_Mumbai',\n",
      "       'Location_Pune',\n",
      "       ...\n",
      "       'Model_Xcent', 'Model_Xenon', 'Model_Xylo', 'Model_Yeti', 'Model_Z4',\n",
      "       'Model_Zen', 'Model_Zest', 'Model_i10', 'Model_i20', 'Model_redi-GO'],\n",
      "      dtype='object', length=235)\n"
     ]
    }
   ],
   "source": [
    "x_train2 = calculate_vif_(x_train1)"
   ]
  },
  {
   "cell_type": "code",
   "execution_count": 94,
   "id": "712fabdf",
   "metadata": {},
   "outputs": [
    {
     "name": "stdout",
     "output_type": "stream",
     "text": [
      "Series before feature selection: \n",
      "\n",
      "Location_Bangalore     0.464749\n",
      "Location_Chennai       1.301236\n",
      "Location_Coimbatore    0.324388\n",
      "Location_Delhi         1.607297\n",
      "Location_Hyderabad     0.574943\n",
      "                         ...   \n",
      "Model_Zen              1.140103\n",
      "Model_Zest             1.106577\n",
      "Model_i10              1.737931\n",
      "Model_i20              2.144162\n",
      "Model_redi-GO          1.035900\n",
      "Length: 235, dtype: float64\n",
      "\n"
     ]
    }
   ],
   "source": [
    "# Check whether multicolinearity removed or not\n",
    "from statsmodels.stats.outliers_influence import variance_inflation_factor\n",
    "vif_series1 = pd.Series([variance_inflation_factor(x_train2.values,i) for i in range(x_train2.shape[1])],index=x_train2.columns)\n",
    "print('Series before feature selection: \\n\\n{}\\n'.format(vif_series1))"
   ]
  },
  {
   "cell_type": "code",
   "execution_count": 95,
   "id": "ef99f36c",
   "metadata": {},
   "outputs": [
    {
     "data": {
      "text/plain": [
       "Model_City        2.265339\n",
       "Model_i20         2.144162\n",
       "Model_Wagon       1.895921\n",
       "Model_Alto        1.820355\n",
       "Model_Grand       1.816986\n",
       "                    ...   \n",
       "Model_Hexa             NaN\n",
       "Model_Logan            NaN\n",
       "Model_Motors           NaN\n",
       "Model_Platinum         NaN\n",
       "Model_Tavera           NaN\n",
       "Length: 235, dtype: float64"
      ]
     },
     "execution_count": 95,
     "metadata": {},
     "output_type": "execute_result"
    }
   ],
   "source": [
    "vif_series1.sort_values(ascending=False)"
   ]
  },
  {
   "cell_type": "code",
   "execution_count": 96,
   "id": "ccc763b1",
   "metadata": {},
   "outputs": [],
   "source": [
    "# Since all the VIF values are below 5. Lets us now try check for the R2 and adjusted R2\n",
    "## Lets perform Significance test"
   ]
  },
  {
   "cell_type": "code",
   "execution_count": 97,
   "id": "8582b1bd",
   "metadata": {},
   "outputs": [
    {
     "name": "stdout",
     "output_type": "stream",
     "text": [
      "                                 OLS Regression Results                                \n",
      "=======================================================================================\n",
      "Dep. Variable:                  Price   R-squared (uncentered):                   0.884\n",
      "Model:                            OLS   Adj. R-squared (uncentered):              0.879\n",
      "Method:                 Least Squares   F-statistic:                              168.6\n",
      "Date:                Mon, 24 Jan 2022   Prob (F-statistic):                        0.00\n",
      "Time:                        19:27:51   Log-Likelihood:                         -15275.\n",
      "No. Observations:                5077   AIC:                                  3.099e+04\n",
      "Df Residuals:                    4857   BIC:                                  3.243e+04\n",
      "Df Model:                         220                                                  \n",
      "Covariance Type:            nonrobust                                                  \n",
      "=============================================================================================\n",
      "                                coef    std err          t      P>|t|      [0.025      0.975]\n",
      "---------------------------------------------------------------------------------------------\n",
      "Location_Bangalore            2.0596      0.469      4.388      0.000       1.139       2.980\n",
      "Location_Chennai              0.6865      0.446      1.538      0.124      -0.189       1.562\n",
      "Location_Coimbatore           3.3175      0.426      7.796      0.000       2.483       4.152\n",
      "Location_Delhi               -0.2640      0.434     -0.608      0.543      -1.116       0.588\n",
      "Location_Hyderabad            0.9833      0.422      2.328      0.020       0.155       1.811\n",
      "Location_Jaipur               0.2257      0.458      0.493      0.622      -0.672       1.124\n",
      "Location_Kochi                1.6615      0.426      3.900      0.000       0.826       2.497\n",
      "Location_Kolkata             -0.6101      0.439     -1.388      0.165      -1.472       0.251\n",
      "Location_Mumbai               0.3726      0.418      0.890      0.373      -0.448       1.193\n",
      "Location_Pune                 0.2047      0.430      0.476      0.634      -0.638       1.048\n",
      "Fuel_Type_LPG                -1.0628      1.559     -0.682      0.495      -4.119       1.994\n",
      "Fuel_Type_Petrol             -0.7519      0.198     -3.807      0.000      -1.139      -0.365\n",
      "Owner_Type_Fourth & Above    -2.4688      1.718     -1.437      0.151      -5.836       0.899\n",
      "Owner_Type_Second            -2.1783      0.206    -10.574      0.000      -2.582      -1.774\n",
      "Owner_Type_Third             -3.2973      0.547     -6.024      0.000      -4.370      -2.224\n",
      "Brand_Hindustan            2.766e-13   1.26e-14     21.878      0.000    2.52e-13    3.01e-13\n",
      "Brand_Smart                2.696e-15   8.97e-15      0.300      0.764   -1.49e-14    2.03e-14\n",
      "Model_1.4Gsi                  7.5369      5.038      1.496      0.135      -2.340      17.414\n",
      "Model_1000                    2.7969      5.038      0.555      0.579      -7.080      12.674\n",
      "Model_3                      17.7318      0.668     26.563      0.000      16.423      19.040\n",
      "Model_370Z                 3.753e-13   1.84e-14     20.376      0.000    3.39e-13    4.11e-13\n",
      "Model_5                      23.5318      0.736     31.961      0.000      22.088      24.975\n",
      "Model_6                      45.2756      1.814     24.953      0.000      41.718      48.833\n",
      "Model_7                      40.2155      1.393     28.879      0.000      37.485      42.946\n",
      "Model_800                     2.4147      1.579      1.529      0.126      -0.681       5.510\n",
      "Model_A                      15.8796      1.630      9.743      0.000      12.684      19.075\n",
      "Model_A-Star                  2.5977      1.726      1.505      0.132      -0.787       5.982\n",
      "Model_A3                     17.8769      2.523      7.086      0.000      12.931      22.823\n",
      "Model_A4                     17.6791      0.742     23.834      0.000      16.225      19.133\n",
      "Model_A6                     21.5774      0.792     27.239      0.000      20.024      23.130\n",
      "Model_A7                     29.5829      3.568      8.290      0.000      22.587      36.578\n",
      "Model_A8                     11.4404      5.034      2.273      0.023       1.571      21.310\n",
      "Model_Abarth                  5.9693      5.032      1.186      0.236      -3.895      15.834\n",
      "Model_Accent                  2.9242      1.398      2.091      0.037       0.183       5.665\n",
      "Model_Accord                  6.4291      1.049      6.127      0.000       4.372       8.486\n",
      "Model_Alto                    2.8665      0.593      4.833      0.000       1.704       4.029\n",
      "Model_Amaze                   4.8070      0.647      7.426      0.000       3.538       6.076\n",
      "Model_Ameo                    5.2308      1.387      3.770      0.000       2.511       7.951\n",
      "Model_Aspire                  7.2968      2.927      2.493      0.013       1.559      13.035\n",
      "Model_Aveo                    3.2532      1.646      1.976      0.048       0.025       6.481\n",
      "Model_Avventura               5.7265      2.274      2.518      0.012       1.268      10.185\n",
      "Model_B                      13.1195      1.501      8.739      0.000      10.176      16.063\n",
      "Model_BR-V                    7.3230      2.537      2.887      0.004       2.350      12.296\n",
      "Model_BRV                     8.4929      2.279      3.727      0.000       4.025      12.961\n",
      "Model_Baleno                  6.5865      0.793      8.306      0.000       5.032       8.141\n",
      "Model_Beat                    2.7798      0.902      3.083      0.002       1.012       4.547\n",
      "Model_Beetle                 16.3293      5.032      3.245      0.001       6.465      26.194\n",
      "Model_Bolero                  4.7146      1.394      3.383      0.001       1.982       7.447\n",
      "Model_Bolt                    4.0654      5.036      0.807      0.420      -5.807      13.937\n",
      "Model_Boxster              2.744e-14   1.12e-14      2.444      0.015    5.43e-15    4.94e-14\n",
      "Model_Brio                    3.8237      0.748      5.112      0.000       2.357       5.290\n",
      "Model_C-Class                35.4933      2.906     12.215      0.000      29.797      41.190\n",
      "Model_CLA                    26.2064      1.553     16.880      0.000      23.163      29.250\n",
      "Model_CLS-Class            -8.04e-14   9.78e-15     -8.218      0.000   -9.96e-14   -6.12e-14\n",
      "Model_CR-V                    8.6213      1.085      7.944      0.000       6.494      10.749\n",
      "Model_Camry                  19.1788      1.811     10.589      0.000      15.628      22.730\n",
      "Model_Captiva                 3.5348      3.567      0.991      0.322      -3.459      10.529\n",
      "Model_Captur                 12.2839      3.567      3.443      0.001       5.290      19.278\n",
      "Model_Cayenne                35.7233      2.276     15.697      0.000      31.262      40.185\n",
      "Model_Cayman                 43.3793      5.032      8.621      0.000      33.515      53.244\n",
      "Model_Cedia                2.579e-15   8.35e-15      0.309      0.758   -1.38e-14     1.9e-14\n",
      "Model_Celerio                 3.9324      0.895      4.393      0.000       2.177       5.687\n",
      "Model_Ciaz                    7.3497      0.769      9.552      0.000       5.841       8.858\n",
      "Model_City                    6.1078      0.512     11.927      0.000       5.104       7.112\n",
      "Model_Civic                   4.2729      1.041      4.104      0.000       2.232       6.314\n",
      "Model_Classic                 4.4918      3.577      1.256      0.209      -2.521      11.504\n",
      "Model_Clubman                35.5472      5.034      7.062      0.000      25.679      45.415\n",
      "Model_Compass                17.7296      1.347     13.160      0.000      15.088      20.371\n",
      "Model_Continental            58.7686      5.034     11.675      0.000      48.900      68.637\n",
      "Model_Cooper                 26.6300      1.236     21.546      0.000      24.207      29.053\n",
      "Model_Corolla                 7.2357      0.752      9.620      0.000       5.761       8.710\n",
      "Model_Countryman          -2.741e-14    8.6e-15     -3.185      0.001   -4.43e-14   -1.05e-14\n",
      "Model_Creta                  11.1137      0.685     16.235      0.000       9.772      12.456\n",
      "Model_CrossPolo               4.9002      2.276      2.153      0.031       0.438       9.362\n",
      "Model_Cruze                   6.1137      1.436      4.258      0.000       3.299       8.928\n",
      "Model_D-MAX                   9.7968      3.574      2.741      0.006       2.791      16.803\n",
      "Model_Duster                  6.0543      0.734      8.247      0.000       4.615       7.494\n",
      "Model_Dzire                   5.8726      1.128      5.206      0.000       3.661       8.084\n",
      "Model_E                      12.3135      5.032      2.447      0.014       2.448      22.179\n",
      "Model_E-Class                23.3334      0.657     35.533      0.000      22.046      24.621\n",
      "Model_EON                     3.1256      0.777      4.024      0.000       1.603       4.648\n",
      "Model_EcoSport                7.4334      0.940      7.906      0.000       5.590       9.277\n",
      "Model_Ecosport                5.9568      0.876      6.796      0.000       4.239       7.675\n",
      "Model_Eeco                    2.9412      1.390      2.117      0.034       0.217       5.665\n",
      "Model_Elantra                 9.2828      1.086      8.548      0.000       7.154      11.412\n",
      "Model_Elite                   6.6460      1.319      5.039      0.000       4.060       9.232\n",
      "Model_Endeavour              19.8182      0.976     20.305      0.000      17.905      21.732\n",
      "Model_Enjoy                   3.5669      1.933      1.845      0.065      -0.222       7.356\n",
      "Model_Ertiga                  6.9311      0.732      9.474      0.000       5.497       8.365\n",
      "Model_Esteem                  3.2959      2.279      1.446      0.148      -1.172       7.764\n",
      "Model_Estilo                  4.5926      2.935      1.565      0.118      -1.161      10.346\n",
      "Model_Etios                   4.3145      0.778      5.546      0.000       2.789       5.840\n",
      "Model_Evalia                  2.9167      5.030      0.580      0.562      -6.944      12.778\n",
      "Model_F                      99.7686      5.034     19.819      0.000      89.900     109.637\n",
      "Model_Fabia                   3.5157      1.818      1.934      0.053      -0.048       7.079\n",
      "Model_Fiesta                  3.1685      1.005      3.154      0.002       1.199       5.138\n",
      "Model_Figo                    3.2735      0.684      4.786      0.000       1.933       4.614\n",
      "Model_Fluence                 4.7273      2.537      1.863      0.062      -0.246       9.701\n",
      "Model_Flying               3.693e-14   7.56e-15      4.888      0.000    2.21e-14    5.17e-14\n",
      "Model_Fortuner               17.5532      0.670     26.208      0.000      16.240      18.866\n",
      "Model_Fortwo              -8.937e-16    8.6e-15     -0.104      0.917   -1.78e-14     1.6e-14\n",
      "Model_Freestyle               8.0994      2.925      2.769      0.006       2.365      13.834\n",
      "Model_Fusion              -1.008e-14   5.14e-15     -1.961      0.050   -2.02e-14   -3.99e-18\n",
      "Model_GL-Class               42.2032      1.496     28.205      0.000      39.270      45.137\n",
      "Model_GLA                    23.4145      1.440     16.256      0.000      20.591      26.238\n",
      "Model_GLC                    46.6677      2.536     18.403      0.000      41.696      51.639\n",
      "Model_GLE                    58.1917      1.496     38.885      0.000      55.258      61.125\n",
      "Model_GLS                    67.5297      3.567     18.934      0.000      60.538      74.522\n",
      "Model_GO                      3.4961      2.088      1.674      0.094      -0.598       7.590\n",
      "Model_Gallardo              124.3132      5.063     24.553      0.000     114.387     134.239\n",
      "Model_Getz                    2.5932      1.942      1.335      0.182      -1.215       6.401\n",
      "Model_Grand                   4.7821      0.573      8.345      0.000       3.659       5.906\n",
      "Model_Grande                  3.7039      2.277      1.626      0.104      -0.761       8.169\n",
      "Model_Hexa                   1.6e-15   5.25e-15      0.305      0.760   -8.69e-15    1.19e-14\n",
      "Model_Ignis                   5.6364      1.818      3.100      0.002       2.072       9.201\n",
      "Model_Ikon                    3.1404      1.515      2.073      0.038       0.171       6.110\n",
      "Model_Indica                  2.3703      0.909      2.607      0.009       0.588       4.153\n",
      "Model_Indigo                  2.4871      1.174      2.119      0.034       0.186       4.788\n",
      "Model_Innova                 11.4265      0.546     20.938      0.000      10.357      12.496\n",
      "Model_Jazz                    5.6236      0.805      6.990      0.000       4.046       7.201\n",
      "Model_Jeep                    3.5101      3.567      0.984      0.325      -3.482      10.503\n",
      "Model_Jetta                   8.2345      1.128      7.297      0.000       6.022      10.447\n",
      "Model_KUV                     4.7269      1.350      3.502      0.000       2.081       7.373\n",
      "Model_KWID                    3.5576      0.966      3.682      0.000       1.663       5.452\n",
      "Model_Koleos                  9.3005      2.925      3.180      0.001       3.566      15.035\n",
      "Model_Lancer                  4.9868      3.610      1.382      0.167      -2.090      12.063\n",
      "Model_Land                    5.3853      5.031      1.071      0.284      -4.477      15.248\n",
      "Model_Laura                   5.2123      1.037      5.025      0.000       3.179       7.246\n",
      "Model_Linea                   3.8924      1.933      2.014      0.044       0.103       7.682\n",
      "Model_Lodgy                   5.1125      5.030      1.016      0.310      -4.749      14.974\n",
      "Model_Logan                7.514e-16   6.25e-15      0.120      0.904   -1.15e-14     1.3e-14\n",
      "Model_M-Class                30.8417      1.105     27.901      0.000      28.675      33.009\n",
      "Model_MU                      6.2001      5.031      1.232      0.218      -3.664      16.064\n",
      "Model_MUX                    19.7743      5.033      3.929      0.000       9.907      29.641\n",
      "Model_Manza                   2.2207      1.427      1.556      0.120      -0.577       5.018\n",
      "Model_Micra                   3.1636      0.962      3.289      0.001       1.278       5.049\n",
      "Model_Mobilio                 5.4366      1.184      4.593      0.000       3.116       7.757\n",
      "Model_Montero                 6.8135      5.032      1.354      0.176      -3.052      16.679\n",
      "Model_Motors               3.654e-14   5.66e-15      6.456      0.000    2.54e-14    4.76e-14\n",
      "Model_Mustang                55.8904      5.033     11.105      0.000      46.023      65.757\n",
      "Model_Nano                    1.5854      1.115      1.421      0.155      -0.601       3.772\n",
      "Model_New                    18.4386      0.659     28.000      0.000      17.148      19.730\n",
      "Model_Nexon                   9.6788      3.566      2.714      0.007       2.687      16.671\n",
      "Model_NuvoSport               6.1317      2.925      2.096      0.036       0.398      11.866\n",
      "Model_Octavia                 8.5112      1.065      7.990      0.000       6.423      10.599\n",
      "Model_Omni                    1.9408      1.326      1.464      0.143      -0.658       4.539\n",
      "Model_One                     9.9618      3.567      2.793      0.005       2.968      16.955\n",
      "Model_Optra                   2.7615      1.717      1.608      0.108      -0.605       6.128\n",
      "Model_Outlander               8.3332      3.573      2.332      0.020       1.328      15.338\n",
      "Model_Pajero                 11.3176      1.151      9.834      0.000       9.061      13.574\n",
      "Model_Panamera               63.1442      2.085     30.287      0.000      59.057      67.232\n",
      "Model_Passat                  6.0576      2.082      2.910      0.004       1.976      10.139\n",
      "Model_Petra                   3.5755      5.037      0.710      0.478      -6.298      13.449\n",
      "Model_Platinum            -6.718e-14   6.89e-15     -9.748      0.000   -8.07e-14   -5.37e-14\n",
      "Model_Polo                    4.3934      0.592      7.426      0.000       3.234       5.553\n",
      "Model_Prius                  12.3774      5.030      2.461      0.014       2.517      22.238\n",
      "Model_Pulse                   3.5447      1.812      1.956      0.051      -0.008       7.098\n",
      "Model_Punto                   3.0186      2.278      1.325      0.185      -1.448       7.485\n",
      "Model_Q3                     21.8190      1.084     20.124      0.000      19.693      23.945\n",
      "Model_Q5                     32.3501      1.066     30.359      0.000      30.261      34.439\n",
      "Model_Q7                     43.6443      1.040     41.962      0.000      41.605      45.683\n",
      "Model_Qualis                  5.1210      2.307      2.220      0.026       0.598       9.644\n",
      "Model_Quanto                  4.0898      2.921      1.400      0.162      -1.637       9.816\n",
      "Model_R-Class                22.5042      2.922      7.701      0.000      16.775      28.233\n",
      "Model_RS5                    39.1293      3.572     10.955      0.000      32.127      46.132\n",
      "Model_Rapid                   5.8203      0.884      6.584      0.000       4.087       7.553\n",
      "Model_Redi                    1.7922      5.037      0.356      0.722      -8.084      11.668\n",
      "Model_Renault                 2.8472      5.034      0.566      0.572      -7.021      12.715\n",
      "Model_Ritz                    3.4131      0.750      4.551      0.000       1.943       4.883\n",
      "Model_Rover                  39.2701      0.847     46.364      0.000      37.610      40.931\n",
      "Model_S                      17.6976      1.386     12.769      0.000      14.980      20.415\n",
      "Model_S-Class                13.7056      2.278      6.018      0.000       9.241      18.171\n",
      "Model_S-Cross                 9.1840      5.031      1.825      0.068      -0.679      19.047\n",
      "Model_S60                    18.7923      2.274      8.263      0.000      14.333      23.251\n",
      "Model_S80                    10.7845      3.568      3.023      0.003       3.790      17.779\n",
      "Model_SL-Class               30.8620      5.035      6.130      0.000      20.992      40.732\n",
      "Model_SLC                    60.8881      3.571     17.051      0.000      53.888      67.889\n",
      "Model_SLK-Class              90.8706      5.040     18.030      0.000      80.990     100.751\n",
      "Model_SX4                     4.1593      1.034      4.024      0.000       2.133       6.185\n",
      "Model_Safari                  7.8096      2.275      3.432      0.001       3.349      12.271\n",
      "Model_Sail                    3.7475      1.720      2.179      0.029       0.376       7.119\n",
      "Model_Santa                  13.6017      1.493      9.113      0.000      10.676      16.528\n",
      "Model_Santro                  2.6402      0.741      3.564      0.000       1.188       4.092\n",
      "Model_Scala                   4.5289      2.921      1.550      0.121      -1.198      10.256\n",
      "Model_Scorpio                 6.6815      0.744      8.977      0.000       5.222       8.141\n",
      "Model_Siena                   4.3735      5.064      0.864      0.388      -5.554      14.301\n",
      "Model_Sonata                  7.0392      1.919      3.669      0.000       3.278      10.801\n",
      "Model_Spark                   2.5503      1.569      1.626      0.104      -0.525       5.626\n",
      "Model_Ssangyong              10.9199      1.489      7.334      0.000       8.001      13.839\n",
      "Model_Sumo                    4.2084      2.274      1.851      0.064      -0.250       8.667\n",
      "Model_Sunny                   4.7111      1.185      3.976      0.000       2.388       7.034\n",
      "Model_Superb                  9.7965      0.830     11.805      0.000       8.170      11.423\n",
      "Model_Swift                   4.6792      0.469      9.971      0.000       3.759       5.599\n",
      "Model_TT                     31.1061      2.925     10.634      0.000      25.372      36.841\n",
      "Model_TUV                     6.3787      1.714      3.721      0.000       3.018       9.739\n",
      "Model_Tavera              -1.601e-15   3.19e-15     -0.502      0.616   -7.86e-15    4.66e-15\n",
      "Model_Teana                   6.5999      2.928      2.254      0.024       0.860      12.339\n",
      "Model_Terrano                 5.9804      1.111      5.383      0.000       3.802       8.159\n",
      "Model_Thar                    8.0982      1.714      4.726      0.000       4.739      11.457\n",
      "Model_Tiago                   4.5048      1.402      3.214      0.001       1.757       7.252\n",
      "Model_Tigor                   5.8471      2.265      2.582      0.010       1.407      10.287\n",
      "Model_Tiguan                 24.6743      5.033      4.902      0.000      14.807      34.541\n",
      "Model_Tucson                 12.4194      2.265      5.482      0.000       7.978      16.860\n",
      "Model_V40                    21.5677      3.569      6.044      0.000      14.571      28.564\n",
      "Model_Vento                   5.2778      0.625      8.441      0.000       4.052       6.504\n",
      "Model_Venture                 2.2953      5.031      0.456      0.648      -7.567      12.158\n",
      "Model_Verito                  3.3872      2.084      1.626      0.104      -0.698       7.472\n",
      "Model_Verna                   5.7324      0.550     10.423      0.000       4.654       6.811\n",
      "Model_Versa                   3.8076      5.035      0.756      0.450      -6.064      13.679\n",
      "Model_Vitara                  7.9995      0.897      8.921      0.000       6.242       9.757\n",
      "Model_WR-V                    7.2904      5.033      1.449      0.148      -2.577      17.157\n",
      "Model_WRV                     8.4753      2.910      2.913      0.004       2.771      14.180\n",
      "Model_Wagon                   3.6113      0.579      6.235      0.000       2.476       4.747\n",
      "Model_X-Trail                 7.2810      3.566      2.042      0.041       0.290      14.272\n",
      "Model_X1                     19.9962      1.042     19.186      0.000      17.953      22.039\n",
      "Model_X3                     28.8765      1.714     16.849      0.000      25.517      32.236\n",
      "Model_X5                     34.6767      1.395     24.859      0.000      31.942      37.411\n",
      "Model_X6                     49.1505      2.263     21.718      0.000      44.714      53.587\n",
      "Model_XC60                   18.4151      2.263      8.136      0.000      13.978      22.852\n",
      "Model_XC90                   22.3354      2.537      8.805      0.000      17.362      27.308\n",
      "Model_XE                     36.0363      2.921     12.337      0.000      30.310      41.763\n",
      "Model_XF                     28.8397      1.089     26.473      0.000      26.704      30.975\n",
      "Model_XJ                     57.1109      2.535     22.529      0.000      52.141      62.081\n",
      "Model_XUV300                  6.5635      5.032      1.304      0.192      -3.302      16.429\n",
      "Model_XUV500                  9.1815      0.643     14.278      0.000       7.921      10.442\n",
      "Model_Xcent                   4.7651      0.782      6.094      0.000       3.232       6.298\n",
      "Model_Xenon                   5.3763      2.536      2.120      0.034       0.405      10.348\n",
      "Model_Xylo                    4.0915      1.134      3.607      0.000       1.868       6.315\n",
      "Model_Yeti                    7.4745      2.536      2.947      0.003       2.502      12.447\n",
      "Model_Z4                     57.6304      5.033     11.450      0.000      47.763      67.497\n",
      "Model_Zen                     2.7096      1.116      2.428      0.015       0.522       4.897\n",
      "Model_Zest                    4.4778      1.243      3.603      0.000       2.041       6.914\n",
      "Model_i10                     3.4486      0.608      5.670      0.000       2.256       4.641\n",
      "Model_i20                     5.1669      0.515     10.031      0.000       4.157       6.177\n",
      "Model_redi-GO                 2.1827      2.281      0.957      0.339      -2.290       6.655\n",
      "==============================================================================\n",
      "Omnibus:                     5304.967   Durbin-Watson:                   2.007\n",
      "Prob(Omnibus):                  0.000   Jarque-Bera (JB):          1756346.737\n",
      "Skew:                           4.585   Prob(JB):                         0.00\n",
      "Kurtosis:                      93.656   Cond. No.                     4.22e+17\n",
      "==============================================================================\n",
      "\n",
      "Warnings:\n",
      "[1] Standard Errors assume that the covariance matrix of the errors is correctly specified.\n",
      "[2] The smallest eigenvalue is 1.58e-32. This might indicate that there are\n",
      "strong multicollinearity problems or that the design matrix is singular.\n"
     ]
    }
   ],
   "source": [
    "\n",
    "olsmodel1 = sm.OLS(y_train, x_train2)\n",
    "olsres1 = olsmodel1.fit()\n",
    "\n",
    "print(olsres1.summary())"
   ]
  },
  {
   "cell_type": "code",
   "execution_count": 98,
   "id": "ab457704",
   "metadata": {},
   "outputs": [
    {
     "name": "stdout",
     "output_type": "stream",
     "text": [
      "['Location_Bangalore', 'Location_Chennai', 'Location_Coimbatore', 'Location_Hyderabad', 'Location_Kochi', 'Owner_Type_Second', 'Owner_Type_Third', 'Model_3', 'Model_5', 'Model_6', 'Model_7', 'Model_A', 'Model_A3', 'Model_A4', 'Model_A6', 'Model_A7', 'Model_A8', 'Model_Accord', 'Model_Alto', 'Model_Amaze', 'Model_Ameo', 'Model_Aspire', 'Model_Avventura', 'Model_B', 'Model_BR-V', 'Model_BRV', 'Model_Baleno', 'Model_Beat', 'Model_Beetle', 'Model_Bolero', 'Model_Brio', 'Model_C-Class', 'Model_CLA', 'Model_CR-V', 'Model_Camry', 'Model_Captur', 'Model_Cayenne', 'Model_Cayman', 'Model_Celerio', 'Model_Ciaz', 'Model_City', 'Model_Civic', 'Model_Clubman', 'Model_Compass', 'Model_Continental', 'Model_Cooper', 'Model_Corolla', 'Model_Creta', 'Model_CrossPolo', 'Model_Cruze', 'Model_D-MAX', 'Model_Duster', 'Model_Dzire', 'Model_E', 'Model_E-Class', 'Model_EON', 'Model_EcoSport', 'Model_Ecosport', 'Model_Elantra', 'Model_Elite', 'Model_Endeavour', 'Model_Ertiga', 'Model_Etios', 'Model_F', 'Model_Fiesta', 'Model_Figo', 'Model_Fortuner', 'Model_Freestyle', 'Model_GL-Class', 'Model_GLA', 'Model_GLC', 'Model_GLE', 'Model_GLS', 'Model_Gallardo', 'Model_Grand', 'Model_Ignis', 'Model_Indica', 'Model_Innova', 'Model_Jazz', 'Model_Jetta', 'Model_KUV', 'Model_KWID', 'Model_Koleos', 'Model_Laura', 'Model_M-Class', 'Model_MUX', 'Model_Micra', 'Model_Mobilio', 'Model_Mustang', 'Model_New', 'Model_Nexon', 'Model_Octavia', 'Model_One', 'Model_Outlander', 'Model_Pajero', 'Model_Panamera', 'Model_Passat', 'Model_Polo', 'Model_Prius', 'Model_Q3', 'Model_Q5', 'Model_Q7', 'Model_Qualis', 'Model_R-Class', 'Model_RS5', 'Model_Rapid', 'Model_Ritz', 'Model_Rover', 'Model_S', 'Model_S-Class', 'Model_S60', 'Model_S80', 'Model_SL-Class', 'Model_SLC', 'Model_SLK-Class', 'Model_SX4', 'Model_Safari', 'Model_Santa', 'Model_Santro', 'Model_Scorpio', 'Model_Sonata', 'Model_Ssangyong', 'Model_Sunny', 'Model_Superb', 'Model_Swift', 'Model_TT', 'Model_TUV', 'Model_Teana', 'Model_Terrano', 'Model_Thar', 'Model_Tiago', 'Model_Tigor', 'Model_Tiguan', 'Model_Tucson', 'Model_V40', 'Model_Vento', 'Model_Verna', 'Model_Vitara', 'Model_WRV', 'Model_Wagon', 'Model_X-Trail', 'Model_X1', 'Model_X3', 'Model_X5', 'Model_X6', 'Model_XC60', 'Model_XC90', 'Model_XE', 'Model_XF', 'Model_XJ', 'Model_XUV500', 'Model_Xcent', 'Model_Xenon', 'Model_Xylo', 'Model_Yeti', 'Model_Z4', 'Model_Zest', 'Model_i10', 'Model_i20']\n"
     ]
    }
   ],
   "source": [
    "# Drop column having P value > 0.05\n",
    "cols = x_train2.columns.tolist()\n",
    "max_p_value = 1\n",
    "while len(cols) > 0:\n",
    "    # Defining the train set\n",
    "    x_train2_aux = x_train2[cols]\n",
    "    # fitting model\n",
    "    model = sm.OLS(y_train, x_train2_aux).fit()\n",
    "    # Getting the p-value and the maximum p-value\n",
    "    p_values = model.pvalues\n",
    "    max_p_value = max(p_values)\n",
    "    # name the variable with maximum p-value\n",
    "    feature_with_p_max = p_values.idxmax()\n",
    "    if max_p_value > 0.05:\n",
    "        cols.remove(feature_with_p_max)\n",
    "    else:\n",
    "        break\n",
    "           \n",
    "\n",
    "selected_features = cols\n",
    "print(selected_features)"
   ]
  },
  {
   "cell_type": "code",
   "execution_count": 99,
   "id": "a7cb4909",
   "metadata": {},
   "outputs": [
    {
     "name": "stdout",
     "output_type": "stream",
     "text": [
      "                                 OLS Regression Results                                \n",
      "=======================================================================================\n",
      "Dep. Variable:                  Price   R-squared (uncentered):                   0.881\n",
      "Model:                            OLS   Adj. R-squared (uncentered):              0.878\n",
      "Method:                 Least Squares   F-statistic:                              230.1\n",
      "Date:                Mon, 24 Jan 2022   Prob (F-statistic):                        0.00\n",
      "Time:                        19:28:01   Log-Likelihood:                         -15335.\n",
      "No. Observations:                5077   AIC:                                  3.099e+04\n",
      "Df Residuals:                    4918   BIC:                                  3.203e+04\n",
      "Df Model:                         159                                                  \n",
      "Covariance Type:            nonrobust                                                  \n",
      "=======================================================================================\n",
      "                          coef    std err          t      P>|t|      [0.025      0.975]\n",
      "---------------------------------------------------------------------------------------\n",
      "Location_Bangalore      2.2080      0.311      7.089      0.000       1.597       2.819\n",
      "Location_Chennai        1.0378      0.271      3.836      0.000       0.507       1.568\n",
      "Location_Coimbatore     3.6029      0.240     15.035      0.000       3.133       4.073\n",
      "Location_Hyderabad      1.3424      0.233      5.764      0.000       0.886       1.799\n",
      "Location_Kochi          1.8884      0.240      7.866      0.000       1.418       2.359\n",
      "Owner_Type_Second      -1.8107      0.199     -9.121      0.000      -2.200      -1.422\n",
      "Owner_Type_Third       -2.6295      0.527     -4.988      0.000      -3.663      -1.596\n",
      "Model_3                17.4781      0.577     30.295      0.000      16.347      18.609\n",
      "Model_5                23.2062      0.647     35.890      0.000      21.939      24.474\n",
      "Model_6                45.0618      1.784     25.257      0.000      41.564      48.560\n",
      "Model_7                39.7096      1.352     29.370      0.000      37.059      42.360\n",
      "Model_A                15.5391      1.597      9.733      0.000      12.409      18.669\n",
      "Model_A3               17.7925      2.522      7.056      0.000      12.849      22.736\n",
      "Model_A4               17.2805      0.661     26.154      0.000      15.985      18.576\n",
      "Model_A6               21.2992      0.719     29.620      0.000      19.889      22.709\n",
      "Model_A7               29.2803      3.565      8.213      0.000      22.291      36.270\n",
      "Model_A8               11.2920      5.049      2.236      0.025       1.393      21.191\n",
      "Model_Accord            5.4534      0.978      5.575      0.000       3.536       7.371\n",
      "Model_Alto              1.9151      0.450      4.255      0.000       1.033       2.797\n",
      "Model_Amaze             4.2749      0.547      7.818      0.000       3.203       5.347\n",
      "Model_Ameo              4.7924      1.350      3.551      0.000       2.147       7.438\n",
      "Model_Aspire            6.6867      2.910      2.298      0.022       0.982      12.391\n",
      "Model_Avventura         5.5301      2.255      2.452      0.014       1.108       9.952\n",
      "Model_B                12.3824      1.459      8.485      0.000       9.522      15.243\n",
      "Model_BR-V              6.6921      2.525      2.651      0.008       1.743      11.641\n",
      "Model_BRV               8.0008      2.256      3.547      0.000       3.578      12.423\n",
      "Model_Baleno            5.7457      0.704      8.166      0.000       4.366       7.125\n",
      "Model_Beat              2.0610      0.824      2.501      0.012       0.445       3.677\n",
      "Model_Beetle           15.9500      5.040      3.165      0.002       6.070      25.830\n",
      "Model_Bolero            4.4924      1.351      3.324      0.001       1.843       7.142\n",
      "Model_Brio              2.9167      0.640      4.560      0.000       1.663       4.171\n",
      "Model_C-Class          35.5224      2.911     12.203      0.000      29.816      41.229\n",
      "Model_CLA              25.8388      1.527     16.921      0.000      22.845      28.832\n",
      "Model_CR-V              7.5870      1.017      7.460      0.000       5.593       9.581\n",
      "Model_Camry            18.4587      1.783     10.355      0.000      14.964      21.953\n",
      "Model_Captur           12.3960      3.567      3.475      0.001       5.403      19.389\n",
      "Model_Cayenne          35.2924      2.258     15.632      0.000      30.866      39.718\n",
      "Model_Cayman           43.0000      5.040      8.532      0.000      33.120      52.880\n",
      "Model_Celerio           3.1157      0.811      3.841      0.000       1.526       4.706\n",
      "Model_Ciaz              6.8670      0.691      9.944      0.000       5.513       8.221\n",
      "Model_City              5.3008      0.346     15.299      0.000       4.622       5.980\n",
      "Model_Civic             3.3352      0.973      3.428      0.001       1.428       5.243\n",
      "Model_Clubman          35.0000      5.040      6.945      0.000      25.120      44.880\n",
      "Model_Compass          17.5476      1.304     13.460      0.000      14.992      20.103\n",
      "Model_Continental      57.6576      5.045     11.428      0.000      47.767      67.549\n",
      "Model_Cooper           26.1703      1.190     21.986      0.000      23.837      28.504\n",
      "Model_Corolla           6.3475      0.656      9.683      0.000       5.062       7.633\n",
      "Model_Creta            10.6368      0.591     17.997      0.000       9.478      11.796\n",
      "Model_CrossPolo         4.4321      2.260      1.961      0.050       0.002       8.862\n",
      "Model_Cruze             5.8958      1.403      4.201      0.000       3.144       8.647\n",
      "Model_D-MAX            10.0225      3.564      2.812      0.005       3.036      17.009\n",
      "Model_Duster            5.9240      0.651      9.106      0.000       4.649       7.199\n",
      "Model_Dzire             5.5094      1.077      5.115      0.000       3.398       7.621\n",
      "Model_E                11.9622      5.047      2.370      0.018       2.068      21.857\n",
      "Model_E-Class          22.9889      0.560     41.035      0.000      21.891      24.087\n",
      "Model_EON               2.1625      0.666      3.245      0.001       0.856       3.469\n",
      "Model_EcoSport          6.8958      0.868      7.944      0.000       5.194       8.598\n",
      "Model_Ecosport          5.6104      0.801      7.004      0.000       4.040       7.181\n",
      "Model_Elantra           8.9899      1.052      8.546      0.000       6.928      11.052\n",
      "Model_Elite             5.7244      1.265      4.524      0.000       3.244       8.205\n",
      "Model_Endeavour        19.5778      0.912     21.464      0.000      17.790      21.366\n",
      "Model_Ertiga            6.6065      0.648     10.203      0.000       5.337       7.876\n",
      "Model_Etios             3.7064      0.690      5.373      0.000       2.354       5.059\n",
      "Model_F                98.6576      5.045     19.555      0.000      88.767     108.549\n",
      "Model_Fiesta            2.5764      0.947      2.720      0.007       0.719       4.434\n",
      "Model_Figo              2.7258      0.591      4.613      0.000       1.567       3.884\n",
      "Model_Fortuner         17.3305      0.566     30.605      0.000      16.220      18.441\n",
      "Model_Freestyle         7.2667      2.910      2.497      0.013       1.562      12.971\n",
      "Model_GL-Class         41.9865      1.457     28.810      0.000      39.129      44.844\n",
      "Model_GLA              23.0688      1.400     16.472      0.000      20.323      25.814\n",
      "Model_GLC              46.7259      2.522     18.530      0.000      41.782      51.669\n",
      "Model_GLE              58.0041      1.461     39.712      0.000      55.141      60.868\n",
      "Model_GLS              67.5000      3.564     18.941      0.000      60.514      74.486\n",
      "Model_Gallardo        122.6295      5.067     24.200      0.000     112.695     132.564\n",
      "Model_Grand             3.9915      0.435      9.176      0.000       3.139       4.844\n",
      "Model_Ignis             5.0814      1.783      2.850      0.004       1.586       8.577\n",
      "Model_Indica            2.0831      0.837      2.490      0.013       0.443       3.723\n",
      "Model_Innova           11.1643      0.425     26.290      0.000      10.332      11.997\n",
      "Model_Jazz              4.8674      0.717      6.785      0.000       3.461       6.274\n",
      "Model_Jetta             7.8930      1.079      7.314      0.000       5.777      10.009\n",
      "Model_KUV               4.1026      1.303      3.148      0.002       1.548       6.658\n",
      "Model_KWID              2.7065      0.882      3.068      0.002       0.977       4.436\n",
      "Model_Koleos            8.7596      2.914      3.006      0.003       3.047      14.472\n",
      "Model_Laura             4.8765      0.975      5.002      0.000       2.965       6.788\n",
      "Model_M-Class          30.7718      1.054     29.182      0.000      28.705      32.839\n",
      "Model_MUX              20.0000      5.040      3.968      0.000      10.120      29.880\n",
      "Model_Micra             2.4561      0.894      2.746      0.006       0.703       4.210\n",
      "Model_Mobilio           4.9411      1.129      4.376      0.000       2.727       7.155\n",
      "Model_Mustang          54.9116      5.046     10.883      0.000      45.020      64.803\n",
      "Model_New              18.0564      0.553     32.641      0.000      16.972      19.141\n",
      "Model_Nexon             9.5600      3.564      2.683      0.007       2.574      16.546\n",
      "Model_Octavia           8.2248      1.011      8.132      0.000       6.242      10.208\n",
      "Model_One               9.4811      3.566      2.659      0.008       2.490      16.473\n",
      "Model_Outlander         7.1913      3.568      2.015      0.044       0.196      14.186\n",
      "Model_Pajero           11.1314      1.104     10.086      0.000       8.968      13.295\n",
      "Model_Panamera         62.4852      2.063     30.296      0.000      58.442      66.529\n",
      "Model_Passat            5.5638      2.059      2.702      0.007       1.526       9.601\n",
      "Model_Polo              3.7812      0.469      8.054      0.000       2.861       4.702\n",
      "Model_Prius            12.7500      5.040      2.530      0.011       2.870      22.630\n",
      "Model_Q3               21.6409      1.033     20.957      0.000      19.617      23.665\n",
      "Model_Q5               32.0755      1.014     31.623      0.000      30.087      34.064\n",
      "Model_Q7               43.3021      0.983     44.069      0.000      41.376      45.228\n",
      "Model_Qualis            4.4407      2.260      1.964      0.050       0.009       8.872\n",
      "Model_R-Class          21.7533      2.913      7.467      0.000      16.042      27.464\n",
      "Model_RS5              38.7500      3.564     10.873      0.000      31.764      45.736\n",
      "Model_Rapid             5.4004      0.810      6.666      0.000       3.812       6.989\n",
      "Model_Ritz              2.9553      0.657      4.501      0.000       1.668       4.242\n",
      "Model_Rover            38.9624      0.777     50.136      0.000      37.439      40.486\n",
      "Model_S                17.2002      1.351     12.733      0.000      14.552      19.848\n",
      "Model_S-Class          12.9027      2.258      5.715      0.000       8.477      17.329\n",
      "Model_S60              18.5545      2.257      8.220      0.000      14.129      22.980\n",
      "Model_S80              10.2891      3.567      2.884      0.004       3.296      17.282\n",
      "Model_SL-Class         29.5000      5.040      5.853      0.000      19.620      39.380\n",
      "Model_SLC              59.6885      3.566     16.739      0.000      52.698      66.679\n",
      "Model_SLK-Class        89.6026      5.052     17.735      0.000      79.698      99.507\n",
      "Model_SX4               3.6902      0.974      3.790      0.000       1.781       5.599\n",
      "Model_Safari            7.6720      2.256      3.401      0.001       3.250      12.094\n",
      "Model_Santa            13.3785      1.463      9.144      0.000      10.510      16.247\n",
      "Model_Santro            1.5453      0.634      2.437      0.015       0.302       2.788\n",
      "Model_Scorpio           6.4192      0.662      9.691      0.000       5.121       7.718\n",
      "Model_Sonata            6.2404      1.907      3.272      0.001       2.502       9.979\n",
      "Model_Ssangyong        10.6812      1.458      7.325      0.000       7.822      13.540\n",
      "Model_Sunny             4.0818      1.132      3.606      0.000       1.863       6.301\n",
      "Model_Superb            9.1401      0.737     12.397      0.000       7.695      10.585\n",
      "Model_Swift             4.2106      0.310     13.569      0.000       3.602       4.819\n",
      "Model_TT               29.9872      2.911     10.302      0.000      24.281      35.694\n",
      "Model_TUV               6.1401      1.685      3.644      0.000       2.837       9.443\n",
      "Model_Teana             5.7562      2.914      1.975      0.048       0.043      11.469\n",
      "Model_Terrano           5.8151      1.053      5.521      0.000       3.750       7.880\n",
      "Model_Thar              8.0429      1.681      4.784      0.000       4.747      11.339\n",
      "Model_Tiago             3.5398      1.351      2.620      0.009       0.891       6.189\n",
      "Model_Tigor             5.4278      2.255      2.407      0.016       1.007       9.849\n",
      "Model_Tiguan           24.9000      5.040      4.941      0.000      15.020      34.780\n",
      "Model_Tucson           12.0833      2.257      5.353      0.000       7.658      16.509\n",
      "Model_V40              21.1301      3.571      5.918      0.000      14.130      28.130\n",
      "Model_Vento             4.7779      0.512      9.326      0.000       3.773       5.782\n",
      "Model_Verna             5.2235      0.423     12.347      0.000       4.394       6.053\n",
      "Model_Vitara            7.8618      0.832      9.448      0.000       6.230       9.493\n",
      "Model_WRV               7.8227      2.914      2.684      0.007       2.110      13.536\n",
      "Model_Wagon             2.7795      0.427      6.514      0.000       1.943       3.616\n",
      "Model_X-Trail           7.2038      3.566      2.020      0.043       0.214      14.194\n",
      "Model_X1               19.7314      0.991     19.903      0.000      17.788      21.675\n",
      "Model_X3               28.6839      1.684     17.036      0.000      25.383      31.985\n",
      "Model_X5               34.3821      1.356     25.363      0.000      31.724      37.040\n",
      "Model_X6               48.9133      2.257     21.673      0.000      44.489      53.338\n",
      "Model_XC60             18.1935      2.257      8.061      0.000      13.769      22.618\n",
      "Model_XC90             22.1188      2.524      8.762      0.000      17.170      27.068\n",
      "Model_XE               35.6324      2.911     12.241      0.000      29.926      41.339\n",
      "Model_XF               28.6196      1.033     27.718      0.000      26.595      30.644\n",
      "Model_XJ               56.6391      2.523     22.451      0.000      51.693      61.585\n",
      "Model_XUV500            8.9700      0.544     16.503      0.000       7.904      10.036\n",
      "Model_Xcent             4.2916      0.694      6.187      0.000       2.932       5.651\n",
      "Model_Xenon             5.2651      2.522      2.087      0.037       0.320      10.210\n",
      "Model_Xylo              3.8034      1.081      3.517      0.000       1.683       5.923\n",
      "Model_Yeti              7.1988      2.523      2.854      0.004       2.253      12.144\n",
      "Model_Z4               56.6516      5.046     11.228      0.000      46.760      66.543\n",
      "Model_Zest              3.9102      1.189      3.288      0.001       1.578       6.242\n",
      "Model_i10               2.4830      0.471      5.277      0.000       1.561       3.406\n",
      "Model_i20               4.4516      0.361     12.327      0.000       3.744       5.160\n",
      "==============================================================================\n",
      "Omnibus:                     5147.011   Durbin-Watson:                   2.012\n",
      "Prob(Omnibus):                  0.000   Jarque-Bera (JB):          1580930.937\n",
      "Skew:                           4.358   Prob(JB):                         0.00\n",
      "Kurtosis:                      89.008   Cond. No.                         30.4\n",
      "==============================================================================\n",
      "\n",
      "Warnings:\n",
      "[1] Standard Errors assume that the covariance matrix of the errors is correctly specified.\n"
     ]
    }
   ],
   "source": [
    "# see summary\n",
    "\n",
    "olsmodel1 = sm.OLS(y_train, x_train2_aux)\n",
    "olsres1 = olsmodel1.fit()\n",
    "\n",
    "print(olsres1.summary())"
   ]
  },
  {
   "cell_type": "markdown",
   "id": "4fbd6d54",
   "metadata": {},
   "source": [
    "## Checking the Linear Regression Assumptions\n",
    "\n",
    "1. **No Multicollinearity**\n",
    "2. **Mean of residuals should be 0**\n",
    "3. **No Heteroscedasticity**\n",
    "       * Test of Homoscedasticity: \n",
    "        Goldfeld Quandt test -Used in regression analysis.\n",
    "        Jarkbera test- Normality test. p should be more than 0.05 for Homoscedasticity\n",
    "4. **Linearity of variables**\n",
    "5. **Normality of error terms**"
   ]
  },
  {
   "cell_type": "markdown",
   "id": "8053915e",
   "metadata": {},
   "source": [
    "* 1. We have already removed multicollinearity from data by dropping features having VIF more than 5"
   ]
  },
  {
   "cell_type": "code",
   "execution_count": 100,
   "id": "bcabb127",
   "metadata": {},
   "outputs": [
    {
     "data": {
      "text/plain": [
       "0.14499701694433717"
      ]
     },
     "execution_count": 100,
     "metadata": {},
     "output_type": "execute_result"
    }
   ],
   "source": [
    "## 2. Now lets check whether Mean of residual should be zero\n",
    "residual=olsres1.resid\n",
    "np.mean(residual)"
   ]
  },
  {
   "cell_type": "code",
   "execution_count": 101,
   "id": "1f00844d",
   "metadata": {},
   "outputs": [
    {
     "data": {
      "text/plain": [
       "[('F statistic', 1.0638972104878865), ('p-value', 0.06746241358222703)]"
      ]
     },
     "execution_count": 101,
     "metadata": {},
     "output_type": "execute_result"
    }
   ],
   "source": [
    "## 3.Test for homoscedasticity\n",
    "# H0=residual are homoscedastic\n",
    "# H1= residual are hetroscedastic\n",
    "import statsmodels.stats.api as sms\n",
    "from statsmodels.compat import lzip\n",
    "\n",
    "name=['F statistic', 'p-value']\n",
    "test= sms.het_goldfeldquandt(residual,x_train1)\n",
    "lzip(name,test)"
   ]
  },
  {
   "cell_type": "markdown",
   "id": "2f9851c5",
   "metadata": {},
   "source": [
    "* as p value>0.05 we can say that residuals are homoscedastic"
   ]
  },
  {
   "cell_type": "code",
   "execution_count": 102,
   "id": "2ac82bdb",
   "metadata": {},
   "outputs": [],
   "source": [
    "## 4. Test for linearity\n",
    "residual=olsres1.resid\n",
    "fitted=olsres1.fittedvalues #predicted values"
   ]
  },
  {
   "cell_type": "code",
   "execution_count": 103,
   "id": "893bb268",
   "metadata": {},
   "outputs": [
    {
     "data": {
      "image/png": "[encoded data removed]",
      "text/plain": [
       "<Figure size 432x288 with 1 Axes>"
      ]
     },
     "metadata": {},
     "output_type": "display_data"
    }
   ],
   "source": [
    "sns.set_style('whitegrid')\n",
    "sns.residplot(fitted,residual,color='purple',lowess=True)\n",
    "plt.xlabel('Fitted Values')\n",
    "plt.ylabel('Residual')\n",
    "\n",
    "plt.show()"
   ]
  },
  {
   "cell_type": "code",
   "execution_count": 104,
   "id": "e13d52a1",
   "metadata": {},
   "outputs": [
    {
     "data": {
      "image/png": "[encoded data removed]",
      "text/plain": [
       "<Figure size 432x288 with 1 Axes>"
      ]
     },
     "metadata": {},
     "output_type": "display_data"
    }
   ],
   "source": [
    "## 5. Test for normality\n",
    "## Errors should be normally distributed.\n",
    "sns.distplot(residual)\n",
    "\n",
    "plt.show()"
   ]
  },
  {
   "cell_type": "code",
   "execution_count": 105,
   "id": "abdbd8ec",
   "metadata": {},
   "outputs": [
    {
     "data": {
      "image/png": "[encoded data removed]",
      "text/plain": [
       "<Figure size 432x288 with 1 Axes>"
      ]
     },
     "metadata": {},
     "output_type": "display_data"
    }
   ],
   "source": [
    "## QQ plot for residuals can be used to visually check the normality assumption\n",
    "import pylab\n",
    "import scipy.stats as stats\n",
    "stats.probplot(residual,dist='norm',plot=pylab)\n",
    "plt.show()"
   ]
  },
  {
   "cell_type": "code",
   "execution_count": 106,
   "id": "e7d40710",
   "metadata": {},
   "outputs": [
    {
     "data": {
      "text/plain": [
       "(1580930.9366130612, 0.0)"
      ]
     },
     "execution_count": 106,
     "metadata": {},
     "output_type": "execute_result"
    }
   ],
   "source": [
    "stats.jarque_bera(residual)"
   ]
  },
  {
   "cell_type": "markdown",
   "id": "899f4c20",
   "metadata": {},
   "source": [
    "**All assumptions of linear regression are checked and are fulfilled**"
   ]
  },
  {
   "cell_type": "markdown",
   "id": "c810fc1e",
   "metadata": {},
   "source": [
    "### Now lets check performnce of model"
   ]
  },
  {
   "cell_type": "code",
   "execution_count": 107,
   "id": "411d7878",
   "metadata": {},
   "outputs": [],
   "source": [
    "x_test_final=x_test[x_train2_aux.columns]"
   ]
  },
  {
   "cell_type": "code",
   "execution_count": 108,
   "id": "d2363a8a",
   "metadata": {},
   "outputs": [
    {
     "data": {
      "text/html": [
       "<div>\n",
       "<style scoped>\n",
       "    .dataframe tbody tr th:only-of-type {\n",
       "        vertical-align: middle;\n",
       "    }\n",
       "\n",
       "    .dataframe tbody tr th {\n",
       "        vertical-align: top;\n",
       "    }\n",
       "\n",
       "    .dataframe thead th {\n",
       "        text-align: right;\n",
       "    }\n",
       "</style>\n",
       "<table border=\"1\" class=\"dataframe\">\n",
       "  <thead>\n",
       "    <tr style=\"text-align: right;\">\n",
       "      <th></th>\n",
       "      <th>Location_Bangalore</th>\n",
       "      <th>Location_Chennai</th>\n",
       "      <th>Location_Coimbatore</th>\n",
       "      <th>Location_Hyderabad</th>\n",
       "      <th>Location_Kochi</th>\n",
       "      <th>Owner_Type_Second</th>\n",
       "      <th>Owner_Type_Third</th>\n",
       "      <th>Model_3</th>\n",
       "      <th>Model_5</th>\n",
       "      <th>Model_6</th>\n",
       "      <th>...</th>\n",
       "      <th>Model_XJ</th>\n",
       "      <th>Model_XUV500</th>\n",
       "      <th>Model_Xcent</th>\n",
       "      <th>Model_Xenon</th>\n",
       "      <th>Model_Xylo</th>\n",
       "      <th>Model_Yeti</th>\n",
       "      <th>Model_Z4</th>\n",
       "      <th>Model_Zest</th>\n",
       "      <th>Model_i10</th>\n",
       "      <th>Model_i20</th>\n",
       "    </tr>\n",
       "  </thead>\n",
       "  <tbody>\n",
       "    <tr>\n",
       "      <th>2954</th>\n",
       "      <td>0</td>\n",
       "      <td>0</td>\n",
       "      <td>0</td>\n",
       "      <td>0</td>\n",
       "      <td>0</td>\n",
       "      <td>0</td>\n",
       "      <td>0</td>\n",
       "      <td>0</td>\n",
       "      <td>0</td>\n",
       "      <td>0</td>\n",
       "      <td>...</td>\n",
       "      <td>0</td>\n",
       "      <td>0</td>\n",
       "      <td>0</td>\n",
       "      <td>0</td>\n",
       "      <td>0</td>\n",
       "      <td>0</td>\n",
       "      <td>0</td>\n",
       "      <td>0</td>\n",
       "      <td>0</td>\n",
       "      <td>0</td>\n",
       "    </tr>\n",
       "    <tr>\n",
       "      <th>6520</th>\n",
       "      <td>0</td>\n",
       "      <td>0</td>\n",
       "      <td>0</td>\n",
       "      <td>0</td>\n",
       "      <td>0</td>\n",
       "      <td>1</td>\n",
       "      <td>0</td>\n",
       "      <td>0</td>\n",
       "      <td>0</td>\n",
       "      <td>0</td>\n",
       "      <td>...</td>\n",
       "      <td>0</td>\n",
       "      <td>0</td>\n",
       "      <td>0</td>\n",
       "      <td>0</td>\n",
       "      <td>0</td>\n",
       "      <td>0</td>\n",
       "      <td>0</td>\n",
       "      <td>0</td>\n",
       "      <td>0</td>\n",
       "      <td>0</td>\n",
       "    </tr>\n",
       "    <tr>\n",
       "      <th>6036</th>\n",
       "      <td>0</td>\n",
       "      <td>1</td>\n",
       "      <td>0</td>\n",
       "      <td>0</td>\n",
       "      <td>0</td>\n",
       "      <td>0</td>\n",
       "      <td>0</td>\n",
       "      <td>0</td>\n",
       "      <td>0</td>\n",
       "      <td>0</td>\n",
       "      <td>...</td>\n",
       "      <td>0</td>\n",
       "      <td>0</td>\n",
       "      <td>0</td>\n",
       "      <td>0</td>\n",
       "      <td>0</td>\n",
       "      <td>0</td>\n",
       "      <td>0</td>\n",
       "      <td>0</td>\n",
       "      <td>0</td>\n",
       "      <td>0</td>\n",
       "    </tr>\n",
       "    <tr>\n",
       "      <th>6251</th>\n",
       "      <td>0</td>\n",
       "      <td>0</td>\n",
       "      <td>0</td>\n",
       "      <td>1</td>\n",
       "      <td>0</td>\n",
       "      <td>0</td>\n",
       "      <td>0</td>\n",
       "      <td>0</td>\n",
       "      <td>0</td>\n",
       "      <td>0</td>\n",
       "      <td>...</td>\n",
       "      <td>0</td>\n",
       "      <td>0</td>\n",
       "      <td>0</td>\n",
       "      <td>0</td>\n",
       "      <td>0</td>\n",
       "      <td>0</td>\n",
       "      <td>0</td>\n",
       "      <td>0</td>\n",
       "      <td>0</td>\n",
       "      <td>0</td>\n",
       "    </tr>\n",
       "    <tr>\n",
       "      <th>6735</th>\n",
       "      <td>0</td>\n",
       "      <td>0</td>\n",
       "      <td>0</td>\n",
       "      <td>0</td>\n",
       "      <td>0</td>\n",
       "      <td>0</td>\n",
       "      <td>0</td>\n",
       "      <td>0</td>\n",
       "      <td>0</td>\n",
       "      <td>0</td>\n",
       "      <td>...</td>\n",
       "      <td>0</td>\n",
       "      <td>0</td>\n",
       "      <td>0</td>\n",
       "      <td>0</td>\n",
       "      <td>0</td>\n",
       "      <td>0</td>\n",
       "      <td>0</td>\n",
       "      <td>0</td>\n",
       "      <td>0</td>\n",
       "      <td>0</td>\n",
       "    </tr>\n",
       "  </tbody>\n",
       "</table>\n",
       "<p>5 rows × 159 columns</p>\n",
       "</div>"
      ],
      "text/plain": [
       "      Location_Bangalore  Location_Chennai  Location_Coimbatore  \\\n",
       "2954                   0                 0                    0   \n",
       "6520                   0                 0                    0   \n",
       "6036                   0                 1                    0   \n",
       "6251                   0                 0                    0   \n",
       "6735                   0                 0                    0   \n",
       "\n",
       "      Location_Hyderabad  Location_Kochi  Owner_Type_Second  Owner_Type_Third  \\\n",
       "2954                   0               0                  0                 0   \n",
       "6520                   0               0                  1                 0   \n",
       "6036                   0               0                  0                 0   \n",
       "6251                   1               0                  0                 0   \n",
       "6735                   0               0                  0                 0   \n",
       "\n",
       "      Model_3  Model_5  Model_6  ...  Model_XJ  Model_XUV500  Model_Xcent  \\\n",
       "2954        0        0        0  ...         0             0            0   \n",
       "6520        0        0        0  ...         0             0            0   \n",
       "6036        0        0        0  ...         0             0            0   \n",
       "6251        0        0        0  ...         0             0            0   \n",
       "6735        0        0        0  ...         0             0            0   \n",
       "\n",
       "      Model_Xenon  Model_Xylo  Model_Yeti  Model_Z4  Model_Zest  Model_i10  \\\n",
       "2954            0           0           0         0           0          0   \n",
       "6520            0           0           0         0           0          0   \n",
       "6036            0           0           0         0           0          0   \n",
       "6251            0           0           0         0           0          0   \n",
       "6735            0           0           0         0           0          0   \n",
       "\n",
       "      Model_i20  \n",
       "2954          0  \n",
       "6520          0  \n",
       "6036          0  \n",
       "6251          0  \n",
       "6735          0  \n",
       "\n",
       "[5 rows x 159 columns]"
      ]
     },
     "execution_count": 108,
     "metadata": {},
     "output_type": "execute_result"
    }
   ],
   "source": [
    "x_test_final.head()"
   ]
  },
  {
   "cell_type": "code",
   "execution_count": 109,
   "id": "68b42932",
   "metadata": {},
   "outputs": [],
   "source": [
    "y_pred=olsres1.predict(x_test_final)"
   ]
  },
  {
   "cell_type": "code",
   "execution_count": 110,
   "id": "90a7e4fc",
   "metadata": {},
   "outputs": [],
   "source": [
    "y_pred = olsres1.predict(x_test_final)"
   ]
  },
  {
   "cell_type": "code",
   "execution_count": 111,
   "id": "2c82bcc1",
   "metadata": {},
   "outputs": [
    {
     "data": {
      "image/png": "[encoded data removed]",
      "text/plain": [
       "<Figure size 432x288 with 1 Axes>"
      ]
     },
     "metadata": {},
     "output_type": "display_data"
    }
   ],
   "source": [
    "# Distribution plot to compare actual Price vs predicted Price\n",
    "ax1=sns.distplot(df1['Price'], hist=False, color='r', label='Actual Value')\n",
    "sns.distplot(y_pred, hist=False, color='b', label='Fitted Value', ax=ax1)\n",
    "\n",
    "plt.title('Actual vs Fitted Value')\n",
    "plt.xlabel('Price')\n",
    "plt.ylabel('Predicted_price')\n",
    "plt.show()"
   ]
  },
  {
   "cell_type": "code",
   "execution_count": 112,
   "id": "78fbbdfd",
   "metadata": {},
   "outputs": [
    {
     "name": "stdout",
     "output_type": "stream",
     "text": [
      "Train error: 4.960322823328436\n",
      "Test error: 5.157013404235154\n"
     ]
    }
   ],
   "source": [
    "#checking RMSE on both train and test set\n",
    "#difference should be less between both\n",
    "\n",
    "from sklearn.metrics import mean_squared_error\n",
    "rms=np.sqrt(mean_squared_error(y_train,fitted))\n",
    "print('Train error:',rms)\n",
    "\n",
    "rms1=np.sqrt(mean_squared_error(y_test,y_pred))\n",
    "print('Test error:',rms1)"
   ]
  },
  {
   "cell_type": "code",
   "execution_count": 113,
   "id": "f189dff5",
   "metadata": {},
   "outputs": [
    {
     "name": "stdout",
     "output_type": "stream",
     "text": [
      "R2 score on train: 0.795130979715412\n",
      "R2 score on test: 0.7467317066685539\n"
     ]
    }
   ],
   "source": [
    "# R2 Squared on train and test data\n",
    "print('R2 score on train:',r2_score(y_train,fitted))\n",
    "print('R2 score on test:',r2_score(y_test,y_pred))"
   ]
  },
  {
   "cell_type": "markdown",
   "id": "2ec236a6",
   "metadata": {},
   "source": [
    "* 1. The model indicates that the most significant predictors of price of used cars are - \n",
    "    - Age of the car\n",
    "    - Number of seats in the car\n",
    "    - Power of the engine\n",
    "    - Mileage\n",
    "    - Kilometers Driven\n",
    "    - Location\n",
    "    - Fuel_Type\n",
    "    - OwnerType\n",
    "    - Transmission - Automatic/Manual\n",
    "        \n",
    "* 2. Newer cars sell for higher prices. 1 unit increase in age  of the car leads to [ exp(0.1123) = 1.12 Lakh ] decrease in the price of the vehicle, when everything else is constant.\n",
    "\n",
    "\n",
    "* 3. As the number of seats increases, the price of the car increases - exp(0.05) = 1.05 Lakhs\n",
    "    \n",
    "* 4. Mileage is inversely correlated with Price. Generally, high mileage cars are the lower budget cars.\n",
    "    \n",
    "* 5. Kilometers Driven have a negative relationship with the price which is intuitive. A car that has been driven more will have more wear and tear and hence sell at a lower price, everything else being 0.\n",
    "    \n",
    "* 6. The categorical variables are a little hard to interpret. But it can be seen that all the car_category variables in the dataset have a negative relationship with the Price and the magnitude of this negative relationship decrease as the brand category moves to lower brands."
   ]
  },
  {
   "cell_type": "code",
   "execution_count": null,
   "id": "fb458245",
   "metadata": {},
   "outputs": [],
   "source": []
  }
 ],
 "metadata": {
  "kernelspec": {
   "display_name": "Python 3 (ipykernel)",
   "language": "python",
   "name": "python3"
  },
  "language_info": {
   "codemirror_mode": {
    "name": "ipython",
    "version": 3
   },
   "file_extension": ".py",
   "mimetype": "text/x-python",
   "name": "python",
   "nbconvert_exporter": "python",
   "pygments_lexer": "ipython3",
   "version": "3.9.7"
  }
 },
 "nbformat": 4,
 "nbformat_minor": 5
}
